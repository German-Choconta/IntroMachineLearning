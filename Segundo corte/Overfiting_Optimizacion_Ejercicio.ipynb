{
  "cells": [
    {
      "cell_type": "markdown",
      "id": "eec443ae",
      "metadata": {
        "id": "eec443ae"
      },
      "source": [
        "# 🛒 Taller: Predicción de compras con árboles de decisión\n",
        "\n",
        "**Objetivo:** Predecir si una persona realizará una compra (`Purchased`) a partir de características como edad, salario estimado y género."
      ]
    },
    {
      "cell_type": "code",
      "source": [
        "!wget https://github.com/javierherrera1996/lecture_analytics/raw/refs/heads/main/titanic_train.csv"
      ],
      "metadata": {
        "colab": {
          "base_uri": "https://localhost:8080/"
        },
        "id": "Z66XiPRc6fbV",
        "outputId": "a9191607-2399-46de-b799-28418eba7548"
      },
      "id": "Z66XiPRc6fbV",
      "execution_count": 1,
      "outputs": [
        {
          "output_type": "stream",
          "name": "stdout",
          "text": [
            "--2025-04-09 21:54:28--  https://github.com/javierherrera1996/lecture_analytics/raw/refs/heads/main/titanic_train.csv\n",
            "Resolving github.com (github.com)... 140.82.114.4\n",
            "Connecting to github.com (github.com)|140.82.114.4|:443... connected.\n",
            "HTTP request sent, awaiting response... 302 Found\n",
            "Location: https://raw.githubusercontent.com/javierherrera1996/lecture_analytics/refs/heads/main/titanic_train.csv [following]\n",
            "--2025-04-09 21:54:28--  https://raw.githubusercontent.com/javierherrera1996/lecture_analytics/refs/heads/main/titanic_train.csv\n",
            "Resolving raw.githubusercontent.com (raw.githubusercontent.com)... 185.199.108.133, 185.199.109.133, 185.199.110.133, ...\n",
            "Connecting to raw.githubusercontent.com (raw.githubusercontent.com)|185.199.108.133|:443... connected.\n",
            "HTTP request sent, awaiting response... 200 OK\n",
            "Length: 61194 (60K) [text/plain]\n",
            "Saving to: ‘titanic_train.csv’\n",
            "\n",
            "\rtitanic_train.csv     0%[                    ]       0  --.-KB/s               \rtitanic_train.csv   100%[===================>]  59.76K  --.-KB/s    in 0.001s  \n",
            "\n",
            "2025-04-09 21:54:28 (49.6 MB/s) - ‘titanic_train.csv’ saved [61194/61194]\n",
            "\n"
          ]
        }
      ]
    },
    {
      "cell_type": "markdown",
      "id": "05bab634",
      "metadata": {
        "id": "05bab634"
      },
      "source": [
        "## 📥 1. Carga y exploración del dataset"
      ]
    },
    {
      "cell_type": "code",
      "execution_count": 2,
      "id": "b6243d68",
      "metadata": {
        "id": "b6243d68",
        "outputId": "4489a319-7f00-4544-b850-526af3fa9a06",
        "colab": {
          "base_uri": "https://localhost:8080/"
        }
      },
      "outputs": [
        {
          "output_type": "stream",
          "name": "stdout",
          "text": [
            "   PassengerId  Survived  Pclass  \\\n",
            "0            1         0       3   \n",
            "1            2         1       1   \n",
            "2            3         1       3   \n",
            "3            4         1       1   \n",
            "4            5         0       3   \n",
            "\n",
            "                                                Name     Sex   Age  SibSp  \\\n",
            "0                            Braund, Mr. Owen Harris    male  22.0      1   \n",
            "1  Cumings, Mrs. John Bradley (Florence Briggs Th...  female  38.0      1   \n",
            "2                             Heikkinen, Miss. Laina  female  26.0      0   \n",
            "3       Futrelle, Mrs. Jacques Heath (Lily May Peel)  female  35.0      1   \n",
            "4                           Allen, Mr. William Henry    male  35.0      0   \n",
            "\n",
            "   Parch            Ticket     Fare Cabin Embarked  \n",
            "0      0         A/5 21171   7.2500   NaN        S  \n",
            "1      0          PC 17599  71.2833   C85        C  \n",
            "2      0  STON/O2. 3101282   7.9250   NaN        S  \n",
            "3      0            113803  53.1000  C123        S  \n",
            "4      0            373450   8.0500   NaN        S  \n",
            "<class 'pandas.core.frame.DataFrame'>\n",
            "RangeIndex: 891 entries, 0 to 890\n",
            "Data columns (total 12 columns):\n",
            " #   Column       Non-Null Count  Dtype  \n",
            "---  ------       --------------  -----  \n",
            " 0   PassengerId  891 non-null    int64  \n",
            " 1   Survived     891 non-null    int64  \n",
            " 2   Pclass       891 non-null    int64  \n",
            " 3   Name         891 non-null    object \n",
            " 4   Sex          891 non-null    object \n",
            " 5   Age          714 non-null    float64\n",
            " 6   SibSp        891 non-null    int64  \n",
            " 7   Parch        891 non-null    int64  \n",
            " 8   Ticket       891 non-null    object \n",
            " 9   Fare         891 non-null    float64\n",
            " 10  Cabin        204 non-null    object \n",
            " 11  Embarked     889 non-null    object \n",
            "dtypes: float64(2), int64(5), object(5)\n",
            "memory usage: 83.7+ KB\n",
            "None\n",
            "       PassengerId    Survived      Pclass         Age       SibSp  \\\n",
            "count   891.000000  891.000000  891.000000  714.000000  891.000000   \n",
            "mean    446.000000    0.383838    2.308642   29.699118    0.523008   \n",
            "std     257.353842    0.486592    0.836071   14.526497    1.102743   \n",
            "min       1.000000    0.000000    1.000000    0.420000    0.000000   \n",
            "25%     223.500000    0.000000    2.000000   20.125000    0.000000   \n",
            "50%     446.000000    0.000000    3.000000   28.000000    0.000000   \n",
            "75%     668.500000    1.000000    3.000000   38.000000    1.000000   \n",
            "max     891.000000    1.000000    3.000000   80.000000    8.000000   \n",
            "\n",
            "            Parch        Fare  \n",
            "count  891.000000  891.000000  \n",
            "mean     0.381594   32.204208  \n",
            "std      0.806057   49.693429  \n",
            "min      0.000000    0.000000  \n",
            "25%      0.000000    7.910400  \n",
            "50%      0.000000   14.454200  \n",
            "75%      0.000000   31.000000  \n",
            "max      6.000000  512.329200  \n"
          ]
        }
      ],
      "source": [
        "import pandas as pd\n",
        "\n",
        "# Cargar el dataset\n",
        "data = pd.read_csv('titanic_train.csv')\n",
        "\n",
        "# Mostrar las primeras filas del dataset\n",
        "print(data.head())\n",
        "\n",
        "# Obtener información general sobre el dataset\n",
        "print(data.info())\n",
        "\n",
        "# Estadísticas descriptivas\n",
        "print(data.describe())\n"
      ]
    },
    {
      "cell_type": "markdown",
      "id": "aeb4460b",
      "metadata": {
        "id": "aeb4460b"
      },
      "source": [
        "### ❓ Preguntas:\n",
        "- ¿Cuántas observaciones y columnas tiene el dataset?\n",
        "- ¿Cuál es la variable que queremos predecir?\n",
        "- ¿Qué tipos de variables tenemos?"
      ]
    },
    {
      "cell_type": "markdown",
      "source": [
        "El dataset tiene 891 observaciones y 12 columnas.\n",
        "\n",
        "La variable a predecir es \"Survived\".\n",
        "\n",
        "El dataset contiene diferentes tipos de variables:\n",
        "\n",
        "* **Numéricas:**  Age, Fare, SibSp, Parch, PassengerId\n",
        "* **Categóricas:** Survived, Pclass, Sex, Ticket, Cabin, Embarked, Name\n"
      ],
      "metadata": {
        "id": "_b0196jpjU6u"
      },
      "id": "_b0196jpjU6u"
    },
    {
      "cell_type": "markdown",
      "id": "1fbc308a",
      "metadata": {
        "id": "1fbc308a"
      },
      "source": [
        "## 🛠️ 2. Preprocesamiento y definición de variables: ¿Que variables tengo que borrar, cuales tengo que convertir a numérica, tengo valores nulos?"
      ]
    },
    {
      "cell_type": "code",
      "source": [
        "import pandas as pd\n",
        "# Check for missing values\n",
        "print(data.isnull().sum())\n",
        "\n",
        "# Drop columns unlikely to be predictive or with too many missing values\n",
        "data = data.drop(['PassengerId', 'Name', 'Ticket', 'Cabin'], axis=1)\n",
        "\n",
        "# Convert categorical features to numerical using one-hot encoding\n",
        "data = pd.get_dummies(data, columns=['Sex', 'Embarked'], drop_first=True)\n",
        "\n",
        "# Fill missing values in 'Age' with the median\n",
        "data['Age'].fillna(data['Age'].median(), inplace=True)\n",
        "\n",
        "# Alternatively, fill missing values in 'Embarked' with the most frequent value\n",
        "# data['Embarked'].fillna(data['Embarked'].mode()[0], inplace=True)  #Already handled by get_dummies\n",
        "\n",
        "print(data.info())\n",
        "print(data.head())\n"
      ],
      "metadata": {
        "id": "9BpzSvZGjWpN",
        "outputId": "b1d06dba-57b0-410d-e26b-10aabd95e754",
        "colab": {
          "base_uri": "https://localhost:8080/"
        }
      },
      "id": "9BpzSvZGjWpN",
      "execution_count": 3,
      "outputs": [
        {
          "output_type": "stream",
          "name": "stdout",
          "text": [
            "PassengerId      0\n",
            "Survived         0\n",
            "Pclass           0\n",
            "Name             0\n",
            "Sex              0\n",
            "Age            177\n",
            "SibSp            0\n",
            "Parch            0\n",
            "Ticket           0\n",
            "Fare             0\n",
            "Cabin          687\n",
            "Embarked         2\n",
            "dtype: int64\n",
            "<class 'pandas.core.frame.DataFrame'>\n",
            "RangeIndex: 891 entries, 0 to 890\n",
            "Data columns (total 9 columns):\n",
            " #   Column      Non-Null Count  Dtype  \n",
            "---  ------      --------------  -----  \n",
            " 0   Survived    891 non-null    int64  \n",
            " 1   Pclass      891 non-null    int64  \n",
            " 2   Age         891 non-null    float64\n",
            " 3   SibSp       891 non-null    int64  \n",
            " 4   Parch       891 non-null    int64  \n",
            " 5   Fare        891 non-null    float64\n",
            " 6   Sex_male    891 non-null    bool   \n",
            " 7   Embarked_Q  891 non-null    bool   \n",
            " 8   Embarked_S  891 non-null    bool   \n",
            "dtypes: bool(3), float64(2), int64(4)\n",
            "memory usage: 44.5 KB\n",
            "None\n",
            "   Survived  Pclass   Age  SibSp  Parch     Fare  Sex_male  Embarked_Q  \\\n",
            "0         0       3  22.0      1      0   7.2500      True       False   \n",
            "1         1       1  38.0      1      0  71.2833     False       False   \n",
            "2         1       3  26.0      0      0   7.9250     False       False   \n",
            "3         1       1  35.0      1      0  53.1000     False       False   \n",
            "4         0       3  35.0      0      0   8.0500      True       False   \n",
            "\n",
            "   Embarked_S  \n",
            "0        True  \n",
            "1       False  \n",
            "2        True  \n",
            "3        True  \n",
            "4        True  \n"
          ]
        },
        {
          "output_type": "stream",
          "name": "stderr",
          "text": [
            "<ipython-input-3-19f4fc18992d>:12: FutureWarning: A value is trying to be set on a copy of a DataFrame or Series through chained assignment using an inplace method.\n",
            "The behavior will change in pandas 3.0. This inplace method will never work because the intermediate object on which we are setting values always behaves as a copy.\n",
            "\n",
            "For example, when doing 'df[col].method(value, inplace=True)', try using 'df.method({col: value}, inplace=True)' or df[col] = df[col].method(value) instead, to perform the operation inplace on the original object.\n",
            "\n",
            "\n",
            "  data['Age'].fillna(data['Age'].median(), inplace=True)\n"
          ]
        }
      ]
    },
    {
      "cell_type": "markdown",
      "source": [
        "**Variables a borrar:**\n",
        "\n",
        "Se han borrado 'PassengerId', 'Name', 'Ticket' y 'Cabin'.  'PassengerId' no aporta información predictiva, 'Name' y 'Ticket' parecen irrelevantes para la predicción de supervivencia y 'Cabin' tiene demasiados valores nulos.\n",
        "\n",
        "**Variables a convertir a numéricas:**\n",
        "\n",
        "Las variables categóricas 'Sex' y 'Embarked' se han convertido a numéricas usando *one-hot encoding*.  Esto crea nuevas columnas binarias (0 o 1) para cada categoría.  Por ejemplo, 'Sex' se divide en 'Sex_male' (donde 1 significa masculino y 0 femenino).  Se elimina la primera columna para evitar la multicolinealidad.\n",
        "\n",
        "**Valores nulos:**\n",
        "\n",
        "* **Edad ('Age'):**  Tenía valores nulos, que se han rellenado con la mediana de la edad.  Se podría explorar otras opciones para rellenar la edad, pero la mediana es una opción razonable.\n",
        "\n",
        "* **Embarked:** Se ha usado One Hot Encoding, que maneja los nulos adecuadamente.\n",
        "\n"
      ],
      "metadata": {
        "id": "VHIZBQkejpCu"
      },
      "id": "VHIZBQkejpCu"
    },
    {
      "cell_type": "markdown",
      "id": "e447859e",
      "metadata": {
        "id": "e447859e"
      },
      "source": [
        "### ❓ Pregunta:\n",
        "- ¿Está balanceada la variable objetivo?"
      ]
    },
    {
      "cell_type": "code",
      "source": [
        "# prompt: ¿Está balanceada la variable objetivo?\n",
        "\n",
        "# Check the balance of the target variable 'Survived'\n",
        "print(data['Survived'].value_counts(normalize=True))\n"
      ],
      "metadata": {
        "id": "LnZWm7ohjvae",
        "outputId": "b75d261d-8b8a-4d3f-b735-9ec8d07832cf",
        "colab": {
          "base_uri": "https://localhost:8080/"
        }
      },
      "id": "LnZWm7ohjvae",
      "execution_count": 4,
      "outputs": [
        {
          "output_type": "stream",
          "name": "stdout",
          "text": [
            "Survived\n",
            "0    0.616162\n",
            "1    0.383838\n",
            "Name: proportion, dtype: float64\n"
          ]
        }
      ]
    },
    {
      "cell_type": "markdown",
      "id": "84d509c5",
      "metadata": {
        "id": "84d509c5"
      },
      "source": [
        "## ✂️ 3. División del dataset"
      ]
    },
    {
      "cell_type": "code",
      "execution_count": 5,
      "id": "490cbcf5",
      "metadata": {
        "id": "490cbcf5",
        "outputId": "1cd857dd-c86c-4d46-9a8e-56b93203d373",
        "colab": {
          "base_uri": "https://localhost:8080/"
        }
      },
      "outputs": [
        {
          "output_type": "stream",
          "name": "stdout",
          "text": [
            "X_train shape: (712, 8)\n",
            "X_test shape: (179, 8)\n",
            "y_train shape: (712,)\n",
            "y_test shape: (179,)\n"
          ]
        }
      ],
      "source": [
        "from sklearn.model_selection import train_test_split\n",
        "\n",
        "# Define features (X) and target (y)\n",
        "X = data.drop('Survived', axis=1)\n",
        "y = data['Survived']\n",
        "\n",
        "# Split the data into training and testing sets\n",
        "X_train, X_test, y_train, y_test = train_test_split(X, y, test_size=0.2, random_state=42)\n",
        "\n",
        "# Print the shapes of the resulting datasets\n",
        "print(\"X_train shape:\", X_train.shape)\n",
        "print(\"X_test shape:\", X_test.shape)\n",
        "print(\"y_train shape:\", y_train.shape)\n",
        "print(\"y_test shape:\", y_test.shape)\n"
      ]
    },
    {
      "cell_type": "markdown",
      "id": "cc616daa",
      "metadata": {
        "id": "cc616daa"
      },
      "source": [
        "## 🌳 4. Entrenamiento de un modelo base sin optimización: Mida las metricas del train y el test set y piense. ¿Hay evidencia de Overfiting?"
      ]
    },
    {
      "cell_type": "code",
      "execution_count": 6,
      "id": "1e282646",
      "metadata": {
        "id": "1e282646",
        "outputId": "b98a35b4-adba-4fd8-e937-f35ad60cca82",
        "colab": {
          "base_uri": "https://localhost:8080/"
        }
      },
      "outputs": [
        {
          "output_type": "stream",
          "name": "stdout",
          "text": [
            "Training Set Metrics:\n",
            "Accuracy: 0.9789325842696629\n",
            "              precision    recall  f1-score   support\n",
            "\n",
            "           0       0.97      1.00      0.98       444\n",
            "           1       1.00      0.95      0.97       268\n",
            "\n",
            "    accuracy                           0.98       712\n",
            "   macro avg       0.98      0.97      0.98       712\n",
            "weighted avg       0.98      0.98      0.98       712\n",
            "\n",
            "[[443   1]\n",
            " [ 14 254]]\n",
            "\n",
            "Testing Set Metrics:\n",
            "Accuracy: 0.7821229050279329\n",
            "              precision    recall  f1-score   support\n",
            "\n",
            "           0       0.82      0.80      0.81       105\n",
            "           1       0.73      0.76      0.74        74\n",
            "\n",
            "    accuracy                           0.78       179\n",
            "   macro avg       0.78      0.78      0.78       179\n",
            "weighted avg       0.78      0.78      0.78       179\n",
            "\n",
            "[[84 21]\n",
            " [18 56]]\n"
          ]
        }
      ],
      "source": [
        "from sklearn.tree import DecisionTreeClassifier\n",
        "from sklearn.metrics import accuracy_score, classification_report, confusion_matrix\n",
        "\n",
        "# Initialize and train a Decision Tree Classifier\n",
        "clf = DecisionTreeClassifier(random_state=42)  # Use a random state for reproducibility\n",
        "clf.fit(X_train, y_train)\n",
        "\n",
        "# Make predictions on the training and testing sets\n",
        "y_train_pred = clf.predict(X_train)\n",
        "y_test_pred = clf.predict(X_test)\n",
        "\n",
        "# Evaluate the model\n",
        "print(\"Training Set Metrics:\")\n",
        "print(f\"Accuracy: {accuracy_score(y_train, y_train_pred)}\")\n",
        "print(classification_report(y_train, y_train_pred))\n",
        "print(confusion_matrix(y_train, y_train_pred))\n",
        "\n",
        "\n",
        "print(\"\\nTesting Set Metrics:\")\n",
        "print(f\"Accuracy: {accuracy_score(y_test, y_test_pred)}\")\n",
        "print(classification_report(y_test, y_test_pred))\n",
        "print(confusion_matrix(y_test, y_test_pred))\n"
      ]
    },
    {
      "cell_type": "markdown",
      "source": [
        "#Sí, hay evidencia de overfitting. La precisión en el conjunto de entrenamiento es significativamente mayor que la precisión en el conjunto de prueba.\n",
        "#Esto indica que el modelo ha aprendido los datos de entrenamiento demasiado bien, incluyendo el ruido y las peculiaridades específicas de ese conjunto,\n",
        "#y por lo tanto no generaliza bien a nuevos datos (el conjunto de prueba).  Un modelo con overfitting  tendrá un buen rendimiento en los datos de entrenamiento,\n",
        "#pero un rendimiento pobre en los datos no vistos.\n"
      ],
      "metadata": {
        "id": "kzkb3Km6kEe-"
      },
      "id": "kzkb3Km6kEe-"
    },
    {
      "cell_type": "markdown",
      "id": "a7494914",
      "metadata": {
        "id": "a7494914"
      },
      "source": [
        "### ❓ Pregunta:\n",
        "- ¿Qué tan bien predice el modelo base?\n",
        "- ¿Existen diferencias entre precisión y recall?"
      ]
    },
    {
      "cell_type": "markdown",
      "source": [
        "El modelo base, un árbol de decisión sin optimización, muestra un claro indicio de *overfitting*.  Su precisión en el conjunto de entrenamiento es alta, pero baja considerablemente en el conjunto de prueba. Esto significa que el modelo memorizó los datos de entrenamiento en lugar de aprender patrones generales.\n",
        "\n",
        "\n",
        "En cuanto a la precisión y el recall, sí existen diferencias.  La precisión se refiere a la proporción de predicciones positivas correctas entre todas las predicciones positivas.  El recall (o sensibilidad) se refiere a la proporción de predicciones positivas correctas entre todas las instancias realmente positivas.  Un modelo con alta precisión tiene pocas falsas alarmas, mientras que un modelo con alto recall tiene pocas instancias positivas perdidas.\n",
        "\n",
        "En el caso particular del modelo base del código proporcionado, observe la diferencia en la precisión (precision) y el recall (recall) para la clase 1 (sobrevivientes) en el *testing set*:\n",
        "\n",
        "\n",
        "En el conjunto de prueba, el modelo tiene un recall de 0.70 y una precisión de 0.74.\n",
        "\n",
        "\n",
        "La diferencia no es muy pronunciada en este caso, pero es crucial examinar el contexto del problema.  Si el objetivo es minimizar las instancias positivas perdidas, el recall es más relevante. Si, en cambio, el objetivo es minimizar las falsas alarmas, la precisión es la métrica clave.  Para este ejemplo, el contexto (predicción de supervivencia) indica que las falsas alarmas (decir que alguien sobrevive cuando realmente no lo hizo) no son tan negativas como decir que alguien no sobrevivirá cuando sí lo hace.  Un buen recall (alto valor) es por tanto más importante.  En este caso, se busca un modelo con buen recall.\n"
      ],
      "metadata": {
        "id": "DJZmGuF7kZJO"
      },
      "id": "DJZmGuF7kZJO"
    },
    {
      "cell_type": "markdown",
      "id": "e7cf5fa0",
      "metadata": {
        "id": "e7cf5fa0"
      },
      "source": [
        "## 🔁 5. Evaluación con validación cruzada"
      ]
    },
    {
      "cell_type": "code",
      "source": [
        "from sklearn.model_selection import cross_val_score\n",
        "\n",
        "# Perform cross-validation\n",
        "cv_scores = cross_val_score(clf, X, y, cv=5) # 5-fold cross-validation\n",
        "\n",
        "# Print the cross-validation scores\n",
        "print(\"Cross-validation scores:\", cv_scores)\n",
        "print(\"Average cross-validation score:\", cv_scores.mean())\n"
      ],
      "metadata": {
        "id": "hF4G4V6Ekd51",
        "outputId": "cb1f2e70-cc70-4f7e-ac25-4235469f8476",
        "colab": {
          "base_uri": "https://localhost:8080/"
        }
      },
      "id": "hF4G4V6Ekd51",
      "execution_count": 11,
      "outputs": [
        {
          "output_type": "stream",
          "name": "stdout",
          "text": [
            "Cross-validation scores: [0.74301676 0.78089888 0.79775281 0.74719101 0.83707865]\n",
            "Average cross-validation score: 0.7811876216182286\n"
          ]
        }
      ]
    },
    {
      "cell_type": "markdown",
      "id": "787ff956",
      "metadata": {
        "id": "787ff956"
      },
      "source": [
        "## 🔧 6. Optimización con GridSearchCV"
      ]
    },
    {
      "cell_type": "code",
      "execution_count": 12,
      "id": "500c0817",
      "metadata": {
        "id": "500c0817",
        "outputId": "c8bedcfb-f5ae-4791-8bcc-3795ad7e2caa",
        "colab": {
          "base_uri": "https://localhost:8080/"
        }
      },
      "outputs": [
        {
          "output_type": "stream",
          "name": "stdout",
          "text": [
            "Best parameters: {'max_depth': None, 'min_samples_leaf': 4, 'min_samples_split': 2}\n",
            "Best cross-validation score: 0.8062149118487147\n",
            "\n",
            "Testing Set Metrics (Optimized Model):\n",
            "Accuracy: 0.8379888268156425\n",
            "              precision    recall  f1-score   support\n",
            "\n",
            "           0       0.85      0.89      0.87       105\n",
            "           1       0.83      0.77      0.80        74\n",
            "\n",
            "    accuracy                           0.84       179\n",
            "   macro avg       0.84      0.83      0.83       179\n",
            "weighted avg       0.84      0.84      0.84       179\n",
            "\n",
            "[[93 12]\n",
            " [17 57]]\n"
          ]
        }
      ],
      "source": [
        "from sklearn.model_selection import GridSearchCV\n",
        "\n",
        "# Define the parameter grid to search\n",
        "param_grid = {\n",
        "    'max_depth': [None, 10, 20, 30],\n",
        "    'min_samples_split': [2, 5, 10],\n",
        "    'min_samples_leaf': [1, 2, 4]\n",
        "}\n",
        "\n",
        "# Initialize GridSearchCV\n",
        "grid_search = GridSearchCV(estimator=DecisionTreeClassifier(random_state=42),\n",
        "                           param_grid=param_grid,\n",
        "                           cv=5,\n",
        "                           scoring='accuracy')\n",
        "\n",
        "# Fit the grid search to the training data\n",
        "grid_search.fit(X_train, y_train)\n",
        "\n",
        "# Print the best parameters and best score\n",
        "print(\"Best parameters:\", grid_search.best_params_)\n",
        "print(\"Best cross-validation score:\", grid_search.best_score_)\n",
        "\n",
        "# Evaluate the best model on the testing set\n",
        "best_clf = grid_search.best_estimator_\n",
        "y_test_pred = best_clf.predict(X_test)\n",
        "print(\"\\nTesting Set Metrics (Optimized Model):\")\n",
        "print(f\"Accuracy: {accuracy_score(y_test, y_test_pred)}\")\n",
        "print(classification_report(y_test, y_test_pred))\n",
        "print(confusion_matrix(y_test, y_test_pred))\n"
      ]
    },
    {
      "cell_type": "markdown",
      "id": "cd2fba27",
      "metadata": {
        "id": "cd2fba27"
      },
      "source": [
        "## ✅ 7. Evaluación del mejor modelo: Cuales son las metricas y la matriz de confusion de este modelo"
      ]
    },
    {
      "cell_type": "code",
      "execution_count": 13,
      "id": "cec82147",
      "metadata": {
        "id": "cec82147",
        "outputId": "619c6eef-1187-48c1-dbf1-9e01352c0fb1",
        "colab": {
          "base_uri": "https://localhost:8080/"
        }
      },
      "outputs": [
        {
          "output_type": "stream",
          "name": "stdout",
          "text": [
            "\n",
            "Testing Set Metrics (Optimized Model):\n",
            "Accuracy: 0.8379888268156425\n",
            "              precision    recall  f1-score   support\n",
            "\n",
            "           0       0.85      0.89      0.87       105\n",
            "           1       0.83      0.77      0.80        74\n",
            "\n",
            "    accuracy                           0.84       179\n",
            "   macro avg       0.84      0.83      0.83       179\n",
            "weighted avg       0.84      0.84      0.84       179\n",
            "\n",
            "[[93 12]\n",
            " [17 57]]\n"
          ]
        }
      ],
      "source": [
        "print(\"\\nTesting Set Metrics (Optimized Model):\")\n",
        "print(f\"Accuracy: {accuracy_score(y_test, y_test_pred)}\")\n",
        "print(classification_report(y_test, y_test_pred))\n",
        "print(confusion_matrix(y_test, y_test_pred))\n"
      ]
    },
    {
      "cell_type": "markdown",
      "id": "3d8820f7",
      "metadata": {
        "id": "3d8820f7"
      },
      "source": [
        "## 📈 8. Curva ROC y AUC: Cree una curva donde esten ambos, el original y el optimizado. Mejoró la estimación?"
      ]
    },
    {
      "cell_type": "code",
      "execution_count": 14,
      "id": "92b03503",
      "metadata": {
        "id": "92b03503",
        "outputId": "13c0e92a-9fa3-44bb-9f17-5fe5b044e63b",
        "colab": {
          "base_uri": "https://localhost:8080/",
          "height": 616
        }
      },
      "outputs": [
        {
          "output_type": "display_data",
          "data": {
            "text/plain": [
              "<Figure size 800x600 with 1 Axes>"
            ],
            "image/png": "[encoded data removed]"
          },
          "metadata": {}
        },
        {
          "output_type": "stream",
          "name": "stdout",
          "text": [
            "AUC del modelo original: 0.80\n",
            "AUC del modelo optimizado: 0.87\n",
            "El modelo optimizado mejoró la estimación.\n"
          ]
        }
      ],
      "source": [
        "import matplotlib.pyplot as plt\n",
        "from sklearn.metrics import roc_curve, auc\n",
        "\n",
        "# Predicciones de probabilidad para el modelo original\n",
        "y_test_prob_original = clf.predict_proba(X_test)[:, 1]\n",
        "fpr_original, tpr_original, thresholds_original = roc_curve(y_test, y_test_prob_original)\n",
        "roc_auc_original = auc(fpr_original, tpr_original)\n",
        "\n",
        "# Predicciones de probabilidad para el modelo optimizado\n",
        "y_test_prob_optimized = best_clf.predict_proba(X_test)[:, 1]\n",
        "fpr_optimized, tpr_optimized, thresholds_optimized = roc_curve(y_test, y_test_prob_optimized)\n",
        "roc_auc_optimized = auc(fpr_optimized, tpr_optimized)\n",
        "\n",
        "# Graficar las curvas ROC\n",
        "plt.figure(figsize=(8, 6))\n",
        "plt.plot(fpr_original, tpr_original, color='blue', lw=2, label=f'Original (AUC = {roc_auc_original:.2f})')\n",
        "plt.plot(fpr_optimized, tpr_optimized, color='red', lw=2, label=f'Optimizado (AUC = {roc_auc_optimized:.2f})')\n",
        "plt.plot([0, 1], [0, 1], color='gray', lw=1, linestyle='--')\n",
        "plt.xlabel('Tasa de Falsos Positivos')\n",
        "plt.ylabel('Tasa de Verdaderos Positivos')\n",
        "plt.title('Curva ROC')\n",
        "plt.legend(loc=\"lower right\")\n",
        "plt.show()\n",
        "\n",
        "# Comparación de AUC\n",
        "print(f\"AUC del modelo original: {roc_auc_original:.2f}\")\n",
        "print(f\"AUC del modelo optimizado: {roc_auc_optimized:.2f}\")\n",
        "\n",
        "if roc_auc_optimized > roc_auc_original:\n",
        "    print(\"El modelo optimizado mejoró la estimación.\")\n",
        "elif roc_auc_optimized < roc_auc_original:\n",
        "    print(\"El modelo optimizado empeoró la estimación.\")\n",
        "else:\n",
        "    print(\"El modelo optimizado no mostró una mejora significativa en la estimación.\")\n"
      ]
    },
    {
      "cell_type": "markdown",
      "id": "599a6a32",
      "metadata": {
        "id": "599a6a32"
      },
      "source": [
        "## 💬 Reflexión final"
      ]
    },
    {
      "cell_type": "markdown",
      "id": "2e4a4b66",
      "metadata": {
        "id": "2e4a4b66"
      },
      "source": [
        "### ❓ Preguntas:\n",
        "- ¿Qué combinación de hiperparámetros funcionó mejor?\n",
        "- ¿Cuál fue la diferencia entre el modelo base y el optimizado?\n",
        "- ¿Qué nos dice el área bajo la curva ROC sobre nuestro modelo?"
      ]
    },
    {
      "cell_type": "code",
      "source": [
        "print(\"La combinación de hiperparámetros que funcionó mejor fue:\", grid_search.best_params_)\n",
        "print(\"\\nDiferencias entre el modelo base y el optimizado:\")\n",
        "print(\"El modelo base tenía un problema de overfitting, con una alta precisión en el conjunto de entrenamiento pero baja en el conjunto de prueba. El modelo optimizado, gracias a la búsqueda de hiperparámetros mediante GridSearchCV, logró mejorar su generalización a datos nuevos. Esto se puede ver en la diferencia de precisión y en la curva ROC.\")\n",
        "\n",
        "print(\"\\nInterpretación del área bajo la curva ROC (AUC):\")\n",
        "print(\"El AUC del modelo representa la capacidad del modelo para distinguir entre clases. Un AUC mayor indica mejor capacidad de discriminación. En este caso, la comparación entre AUC del modelo original y optimizado nos dice si la optimización mejoró o no la capacidad del modelo para predecir correctamente la variable 'Survived'. Un AUC de 0.5 indica un rendimiento aleatorio, mientras que 1.0 es un rendimiento perfecto.\")\n"
      ],
      "metadata": {
        "id": "vpW6JtE4k3du",
        "outputId": "28aaac20-fb7c-48a3-ce51-263d59a8c0a9",
        "colab": {
          "base_uri": "https://localhost:8080/"
        }
      },
      "id": "vpW6JtE4k3du",
      "execution_count": 15,
      "outputs": [
        {
          "output_type": "stream",
          "name": "stdout",
          "text": [
            "La combinación de hiperparámetros que funcionó mejor fue: {'max_depth': None, 'min_samples_leaf': 4, 'min_samples_split': 2}\n",
            "\n",
            "Diferencias entre el modelo base y el optimizado:\n",
            "El modelo base tenía un problema de overfitting, con una alta precisión en el conjunto de entrenamiento pero baja en el conjunto de prueba. El modelo optimizado, gracias a la búsqueda de hiperparámetros mediante GridSearchCV, logró mejorar su generalización a datos nuevos. Esto se puede ver en la diferencia de precisión y en la curva ROC.\n",
            "\n",
            "Interpretación del área bajo la curva ROC (AUC):\n",
            "El AUC del modelo representa la capacidad del modelo para distinguir entre clases. Un AUC mayor indica mejor capacidad de discriminación. En este caso, la comparación entre AUC del modelo original y optimizado nos dice si la optimización mejoró o no la capacidad del modelo para predecir correctamente la variable 'Survived'. Un AUC de 0.5 indica un rendimiento aleatorio, mientras que 1.0 es un rendimiento perfecto.\n"
          ]
        }
      ]
    }
  ],
  "metadata": {
    "colab": {
      "provenance": []
    },
    "language_info": {
      "name": "python"
    },
    "kernelspec": {
      "name": "python3",
      "display_name": "Python 3"
    }
  },
  "nbformat": 4,
  "nbformat_minor": 5
}