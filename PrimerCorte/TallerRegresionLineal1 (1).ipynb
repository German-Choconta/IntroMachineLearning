{
  "cells": [
    {
      "cell_type": "markdown",
      "metadata": {
        "id": "mNdoGOF11om2"
      },
      "source": [
        "# Taller de Regresión Lineal Orientado al Negocio\n",
        "\n",
        "Este taller se centra en **cómo** un negocio (por ejemplo, un e-commerce) puede **interpretar** y **aprovechar** los resultados de la Regresión Lineal para **tomar decisiones**.\n",
        "\n",
        "## Contexto de Negocio\n",
        "Imagina que eres el/la **gerente de marketing** de una tienda en línea. Tienes un conjunto de datos con el comportamiento de los clientes y la **cantidad anual** que han gastado (`Yearly Amount Spent`). Tu objetivo es:\n",
        "1. **Identificar** qué factores (tiempo en la app, duración de la sesión, etc.) influyen más en el gasto anual.\n",
        "2. **Predecir** el gasto anual futuro de los clientes.\n",
        "3. Traducir estos hallazgos en **acciones concretas** que aumenten el gasto de los clientes."
      ],
      "id": "mNdoGOF11om2"
    },
    {
      "cell_type": "markdown",
      "metadata": {
        "id": "GTQyGek31om5"
      },
      "source": [
        "## Datos Disponibles\n",
        "Se te proporciona un dataset con las columnas:\n",
        "- **Email**\n",
        "- **Address**\n",
        "- **Avatar**\n",
        "- **Avg. Session Length** (Promedio de duración de la sesión)\n",
        "- **Time on App** (Tiempo en la App)\n",
        "- **Time on Website** (Tiempo en el Sitio Web)\n",
        "- **Length of Membership** (Antigüedad de membresía, en años)\n",
        "- **Yearly Amount Spent** (Cantidad gastada anualmente)\n",
        "\n",
        "Tu variable objetivo para predecir es: **Yearly Amount Spent**."
      ],
      "id": "GTQyGek31om5"
    },
    {
      "cell_type": "markdown",
      "metadata": {
        "id": "UQtQAT-y1om6"
      },
      "source": [
        "## 1. Carga y Exploración de Datos\n",
        "\n",
        "### Tarea 1.1: Cargar los datos\n",
        "1. Crea un DataFrame (por ejemplo, `df`) leyendo el archivo CSV o introduciendo manualmente la tabla que se te proporcionó.\n",
        "2. Muestra las primeras 5 filas (`df.head()`), la forma (`df.shape`) y los tipos de datos (`df.info()`).\n",
        "\n",
        "**Pregunta de enfoque de negocio:**\n",
        "- ¿Qué **insights** iniciales obtienes con solo ver las variables? ¿Cómo podría eso impactar tus **estrategias de marketing**?"
      ],
      "id": "UQtQAT-y1om6"
    },
    {
      "cell_type": "code",
      "source": [
        "!wget https://github.com/javierherrera1996/lecture_analytics/raw/main/Ecommerce%20_Customers.csv"
      ],
      "metadata": {
        "colab": {
          "base_uri": "https://localhost:8080/"
        },
        "id": "vclb1zxo1vbl",
        "outputId": "c4d4653b-3a09-4bab-f7ba-deeb39eff7d5"
      },
      "id": "vclb1zxo1vbl",
      "execution_count": 1,
      "outputs": [
        {
          "output_type": "stream",
          "name": "stdout",
          "text": [
            "--2025-03-03 12:23:33--  https://github.com/javierherrera1996/lecture_analytics/raw/main/Ecommerce%20_Customers.csv\n",
            "Resolving github.com (github.com)... 140.82.112.3\n",
            "Connecting to github.com (github.com)|140.82.112.3|:443... connected.\n",
            "HTTP request sent, awaiting response... 302 Found\n",
            "Location: https://raw.githubusercontent.com/javierherrera1996/lecture_analytics/main/Ecommerce%20_Customers.csv [following]\n",
            "--2025-03-03 12:23:33--  https://raw.githubusercontent.com/javierherrera1996/lecture_analytics/main/Ecommerce%20_Customers.csv\n",
            "Resolving raw.githubusercontent.com (raw.githubusercontent.com)... 185.199.108.133, 185.199.109.133, 185.199.110.133, ...\n",
            "Connecting to raw.githubusercontent.com (raw.githubusercontent.com)|185.199.108.133|:443... connected.\n",
            "HTTP request sent, awaiting response... 200 OK\n",
            "Length: 87360 (85K) [text/plain]\n",
            "Saving to: ‘Ecommerce _Customers.csv’\n",
            "\n",
            "Ecommerce _Customer 100%[===================>]  85.31K  --.-KB/s    in 0.02s   \n",
            "\n",
            "2025-03-03 12:23:34 (3.40 MB/s) - ‘Ecommerce _Customers.csv’ saved [87360/87360]\n",
            "\n"
          ]
        }
      ]
    },
    {
      "cell_type": "code",
      "metadata": {
        "colab": {
          "base_uri": "https://localhost:8080/",
          "height": 276
        },
        "id": "iQIGI3ws1om6",
        "outputId": "d98338ea-1f61-4c2f-a31b-65b8cbffc343"
      },
      "source": [
        "# EJEMPLO de código:\n",
        "import pandas as pd\n",
        "\n",
        "# Supongamos que has guardado tu dataset en un archivo 'data.csv'\n",
        "df = pd.read_csv('Ecommerce _Customers.csv')\n",
        "df.head()\n",
        "\n"
      ],
      "execution_count": 2,
      "outputs": [
        {
          "output_type": "execute_result",
          "data": {
            "text/plain": [
              "                           Email  \\\n",
              "0      mstephenson@fernandez.com   \n",
              "1              hduke@hotmail.com   \n",
              "2               pallen@yahoo.com   \n",
              "3        riverarebecca@gmail.com   \n",
              "4  mstephens@davidson-herman.com   \n",
              "\n",
              "                                             Address            Avatar  \\\n",
              "0       835 Frank Tunnel\\nWrightmouth, MI 82180-9605            Violet   \n",
              "1     4547 Archer Common\\nDiazchester, CA 06566-8576         DarkGreen   \n",
              "2  24645 Valerie Unions Suite 582\\nCobbborough, D...            Bisque   \n",
              "3   1414 David Throughway\\nPort Jason, OH 22070-1220       SaddleBrown   \n",
              "4  14023 Rodriguez Passage\\nPort Jacobville, PR 3...  MediumAquaMarine   \n",
              "\n",
              "   Avg. Session Length  Time on App  Time on Website  Length of Membership  \\\n",
              "0            34.497268    12.655651        39.577668              4.082621   \n",
              "1            31.926272    11.109461        37.268959              2.664034   \n",
              "2            33.000915    11.330278        37.110597              4.104543   \n",
              "3            34.305557    13.717514        36.721283              3.120179   \n",
              "4            33.330673    12.795189        37.536653              4.446308   \n",
              "\n",
              "   Yearly Amount Spent  \n",
              "0           587.951054  \n",
              "1           392.204933  \n",
              "2           487.547505  \n",
              "3           581.852344  \n",
              "4           599.406092  "
            ],
            "text/html": [
              "\n",
              "  <div id=\"df-e2da7fcd-3d41-4c52-ba80-b769f59db396\" class=\"colab-df-container\">\n",
              "    <div>\n",
              "<style scoped>\n",
              "    .dataframe tbody tr th:only-of-type {\n",
              "        vertical-align: middle;\n",
              "    }\n",
              "\n",
              "    .dataframe tbody tr th {\n",
              "        vertical-align: top;\n",
              "    }\n",
              "\n",
              "    .dataframe thead th {\n",
              "        text-align: right;\n",
              "    }\n",
              "</style>\n",
              "<table border=\"1\" class=\"dataframe\">\n",
              "  <thead>\n",
              "    <tr style=\"text-align: right;\">\n",
              "      <th></th>\n",
              "      <th>Email</th>\n",
              "      <th>Address</th>\n",
              "      <th>Avatar</th>\n",
              "      <th>Avg. Session Length</th>\n",
              "      <th>Time on App</th>\n",
              "      <th>Time on Website</th>\n",
              "      <th>Length of Membership</th>\n",
              "      <th>Yearly Amount Spent</th>\n",
              "    </tr>\n",
              "  </thead>\n",
              "  <tbody>\n",
              "    <tr>\n",
              "      <th>0</th>\n",
              "      <td>mstephenson@fernandez.com</td>\n",
              "      <td>835 Frank Tunnel\\nWrightmouth, MI 82180-9605</td>\n",
              "      <td>Violet</td>\n",
              "      <td>34.497268</td>\n",
              "      <td>12.655651</td>\n",
              "      <td>39.577668</td>\n",
              "      <td>4.082621</td>\n",
              "      <td>587.951054</td>\n",
              "    </tr>\n",
              "    <tr>\n",
              "      <th>1</th>\n",
              "      <td>hduke@hotmail.com</td>\n",
              "      <td>4547 Archer Common\\nDiazchester, CA 06566-8576</td>\n",
              "      <td>DarkGreen</td>\n",
              "      <td>31.926272</td>\n",
              "      <td>11.109461</td>\n",
              "      <td>37.268959</td>\n",
              "      <td>2.664034</td>\n",
              "      <td>392.204933</td>\n",
              "    </tr>\n",
              "    <tr>\n",
              "      <th>2</th>\n",
              "      <td>pallen@yahoo.com</td>\n",
              "      <td>24645 Valerie Unions Suite 582\\nCobbborough, D...</td>\n",
              "      <td>Bisque</td>\n",
              "      <td>33.000915</td>\n",
              "      <td>11.330278</td>\n",
              "      <td>37.110597</td>\n",
              "      <td>4.104543</td>\n",
              "      <td>487.547505</td>\n",
              "    </tr>\n",
              "    <tr>\n",
              "      <th>3</th>\n",
              "      <td>riverarebecca@gmail.com</td>\n",
              "      <td>1414 David Throughway\\nPort Jason, OH 22070-1220</td>\n",
              "      <td>SaddleBrown</td>\n",
              "      <td>34.305557</td>\n",
              "      <td>13.717514</td>\n",
              "      <td>36.721283</td>\n",
              "      <td>3.120179</td>\n",
              "      <td>581.852344</td>\n",
              "    </tr>\n",
              "    <tr>\n",
              "      <th>4</th>\n",
              "      <td>mstephens@davidson-herman.com</td>\n",
              "      <td>14023 Rodriguez Passage\\nPort Jacobville, PR 3...</td>\n",
              "      <td>MediumAquaMarine</td>\n",
              "      <td>33.330673</td>\n",
              "      <td>12.795189</td>\n",
              "      <td>37.536653</td>\n",
              "      <td>4.446308</td>\n",
              "      <td>599.406092</td>\n",
              "    </tr>\n",
              "  </tbody>\n",
              "</table>\n",
              "</div>\n",
              "    <div class=\"colab-df-buttons\">\n",
              "\n",
              "  <div class=\"colab-df-container\">\n",
              "    <button class=\"colab-df-convert\" onclick=\"convertToInteractive('df-e2da7fcd-3d41-4c52-ba80-b769f59db396')\"\n",
              "            title=\"Convert this dataframe to an interactive table.\"\n",
              "            style=\"display:none;\">\n",
              "\n",
              "  <svg xmlns=\"http://www.w3.org/2000/svg\" height=\"24px\" viewBox=\"0 -960 960 960\">\n",
              "    <path d=\"M120-120v-720h720v720H120Zm60-500h600v-160H180v160Zm220 220h160v-160H400v160Zm0 220h160v-160H400v160ZM180-400h160v-160H180v160Zm440 0h160v-160H620v160ZM180-180h160v-160H180v160Zm440 0h160v-160H620v160Z\"/>\n",
              "  </svg>\n",
              "    </button>\n",
              "\n",
              "  <style>\n",
              "    .colab-df-container {\n",
              "      display:flex;\n",
              "      gap: 12px;\n",
              "    }\n",
              "\n",
              "    .colab-df-convert {\n",
              "      background-color: #E8F0FE;\n",
              "      border: none;\n",
              "      border-radius: 50%;\n",
              "      cursor: pointer;\n",
              "      display: none;\n",
              "      fill: #1967D2;\n",
              "      height: 32px;\n",
              "      padding: 0 0 0 0;\n",
              "      width: 32px;\n",
              "    }\n",
              "\n",
              "    .colab-df-convert:hover {\n",
              "      background-color: #E2EBFA;\n",
              "      box-shadow: 0px 1px 2px rgba(60, 64, 67, 0.3), 0px 1px 3px 1px rgba(60, 64, 67, 0.15);\n",
              "      fill: #174EA6;\n",
              "    }\n",
              "\n",
              "    .colab-df-buttons div {\n",
              "      margin-bottom: 4px;\n",
              "    }\n",
              "\n",
              "    [theme=dark] .colab-df-convert {\n",
              "      background-color: #3B4455;\n",
              "      fill: #D2E3FC;\n",
              "    }\n",
              "\n",
              "    [theme=dark] .colab-df-convert:hover {\n",
              "      background-color: #434B5C;\n",
              "      box-shadow: 0px 1px 3px 1px rgba(0, 0, 0, 0.15);\n",
              "      filter: drop-shadow(0px 1px 2px rgba(0, 0, 0, 0.3));\n",
              "      fill: #FFFFFF;\n",
              "    }\n",
              "  </style>\n",
              "\n",
              "    <script>\n",
              "      const buttonEl =\n",
              "        document.querySelector('#df-e2da7fcd-3d41-4c52-ba80-b769f59db396 button.colab-df-convert');\n",
              "      buttonEl.style.display =\n",
              "        google.colab.kernel.accessAllowed ? 'block' : 'none';\n",
              "\n",
              "      async function convertToInteractive(key) {\n",
              "        const element = document.querySelector('#df-e2da7fcd-3d41-4c52-ba80-b769f59db396');\n",
              "        const dataTable =\n",
              "          await google.colab.kernel.invokeFunction('convertToInteractive',\n",
              "                                                    [key], {});\n",
              "        if (!dataTable) return;\n",
              "\n",
              "        const docLinkHtml = 'Like what you see? Visit the ' +\n",
              "          '<a target=\"_blank\" href=https://colab.research.google.com/notebooks/data_table.ipynb>data table notebook</a>'\n",
              "          + ' to learn more about interactive tables.';\n",
              "        element.innerHTML = '';\n",
              "        dataTable['output_type'] = 'display_data';\n",
              "        await google.colab.output.renderOutput(dataTable, element);\n",
              "        const docLink = document.createElement('div');\n",
              "        docLink.innerHTML = docLinkHtml;\n",
              "        element.appendChild(docLink);\n",
              "      }\n",
              "    </script>\n",
              "  </div>\n",
              "\n",
              "\n",
              "<div id=\"df-b0071a5a-83d4-411a-bc04-01dea101aa6d\">\n",
              "  <button class=\"colab-df-quickchart\" onclick=\"quickchart('df-b0071a5a-83d4-411a-bc04-01dea101aa6d')\"\n",
              "            title=\"Suggest charts\"\n",
              "            style=\"display:none;\">\n",
              "\n",
              "<svg xmlns=\"http://www.w3.org/2000/svg\" height=\"24px\"viewBox=\"0 0 24 24\"\n",
              "     width=\"24px\">\n",
              "    <g>\n",
              "        <path d=\"M19 3H5c-1.1 0-2 .9-2 2v14c0 1.1.9 2 2 2h14c1.1 0 2-.9 2-2V5c0-1.1-.9-2-2-2zM9 17H7v-7h2v7zm4 0h-2V7h2v10zm4 0h-2v-4h2v4z\"/>\n",
              "    </g>\n",
              "</svg>\n",
              "  </button>\n",
              "\n",
              "<style>\n",
              "  .colab-df-quickchart {\n",
              "      --bg-color: #E8F0FE;\n",
              "      --fill-color: #1967D2;\n",
              "      --hover-bg-color: #E2EBFA;\n",
              "      --hover-fill-color: #174EA6;\n",
              "      --disabled-fill-color: #AAA;\n",
              "      --disabled-bg-color: #DDD;\n",
              "  }\n",
              "\n",
              "  [theme=dark] .colab-df-quickchart {\n",
              "      --bg-color: #3B4455;\n",
              "      --fill-color: #D2E3FC;\n",
              "      --hover-bg-color: #434B5C;\n",
              "      --hover-fill-color: #FFFFFF;\n",
              "      --disabled-bg-color: #3B4455;\n",
              "      --disabled-fill-color: #666;\n",
              "  }\n",
              "\n",
              "  .colab-df-quickchart {\n",
              "    background-color: var(--bg-color);\n",
              "    border: none;\n",
              "    border-radius: 50%;\n",
              "    cursor: pointer;\n",
              "    display: none;\n",
              "    fill: var(--fill-color);\n",
              "    height: 32px;\n",
              "    padding: 0;\n",
              "    width: 32px;\n",
              "  }\n",
              "\n",
              "  .colab-df-quickchart:hover {\n",
              "    background-color: var(--hover-bg-color);\n",
              "    box-shadow: 0 1px 2px rgba(60, 64, 67, 0.3), 0 1px 3px 1px rgba(60, 64, 67, 0.15);\n",
              "    fill: var(--button-hover-fill-color);\n",
              "  }\n",
              "\n",
              "  .colab-df-quickchart-complete:disabled,\n",
              "  .colab-df-quickchart-complete:disabled:hover {\n",
              "    background-color: var(--disabled-bg-color);\n",
              "    fill: var(--disabled-fill-color);\n",
              "    box-shadow: none;\n",
              "  }\n",
              "\n",
              "  .colab-df-spinner {\n",
              "    border: 2px solid var(--fill-color);\n",
              "    border-color: transparent;\n",
              "    border-bottom-color: var(--fill-color);\n",
              "    animation:\n",
              "      spin 1s steps(1) infinite;\n",
              "  }\n",
              "\n",
              "  @keyframes spin {\n",
              "    0% {\n",
              "      border-color: transparent;\n",
              "      border-bottom-color: var(--fill-color);\n",
              "      border-left-color: var(--fill-color);\n",
              "    }\n",
              "    20% {\n",
              "      border-color: transparent;\n",
              "      border-left-color: var(--fill-color);\n",
              "      border-top-color: var(--fill-color);\n",
              "    }\n",
              "    30% {\n",
              "      border-color: transparent;\n",
              "      border-left-color: var(--fill-color);\n",
              "      border-top-color: var(--fill-color);\n",
              "      border-right-color: var(--fill-color);\n",
              "    }\n",
              "    40% {\n",
              "      border-color: transparent;\n",
              "      border-right-color: var(--fill-color);\n",
              "      border-top-color: var(--fill-color);\n",
              "    }\n",
              "    60% {\n",
              "      border-color: transparent;\n",
              "      border-right-color: var(--fill-color);\n",
              "    }\n",
              "    80% {\n",
              "      border-color: transparent;\n",
              "      border-right-color: var(--fill-color);\n",
              "      border-bottom-color: var(--fill-color);\n",
              "    }\n",
              "    90% {\n",
              "      border-color: transparent;\n",
              "      border-bottom-color: var(--fill-color);\n",
              "    }\n",
              "  }\n",
              "</style>\n",
              "\n",
              "  <script>\n",
              "    async function quickchart(key) {\n",
              "      const quickchartButtonEl =\n",
              "        document.querySelector('#' + key + ' button');\n",
              "      quickchartButtonEl.disabled = true;  // To prevent multiple clicks.\n",
              "      quickchartButtonEl.classList.add('colab-df-spinner');\n",
              "      try {\n",
              "        const charts = await google.colab.kernel.invokeFunction(\n",
              "            'suggestCharts', [key], {});\n",
              "      } catch (error) {\n",
              "        console.error('Error during call to suggestCharts:', error);\n",
              "      }\n",
              "      quickchartButtonEl.classList.remove('colab-df-spinner');\n",
              "      quickchartButtonEl.classList.add('colab-df-quickchart-complete');\n",
              "    }\n",
              "    (() => {\n",
              "      let quickchartButtonEl =\n",
              "        document.querySelector('#df-b0071a5a-83d4-411a-bc04-01dea101aa6d button');\n",
              "      quickchartButtonEl.style.display =\n",
              "        google.colab.kernel.accessAllowed ? 'block' : 'none';\n",
              "    })();\n",
              "  </script>\n",
              "</div>\n",
              "\n",
              "    </div>\n",
              "  </div>\n"
            ],
            "application/vnd.google.colaboratory.intrinsic+json": {
              "type": "dataframe",
              "variable_name": "df",
              "summary": "{\n  \"name\": \"df\",\n  \"rows\": 500,\n  \"fields\": [\n    {\n      \"column\": \"Email\",\n      \"properties\": {\n        \"dtype\": \"string\",\n        \"num_unique_values\": 500,\n        \"samples\": [\n          \"lauriewilson@jackson.com\",\n          \"williamsjohnny@ferguson.info\",\n          \"aaron89@gmail.com\"\n        ],\n        \"semantic_type\": \"\",\n        \"description\": \"\"\n      }\n    },\n    {\n      \"column\": \"Address\",\n      \"properties\": {\n        \"dtype\": \"string\",\n        \"num_unique_values\": 500,\n        \"samples\": [\n          \"389 Joshua Stravenue Apt. 983\\nMartinezland, MN 29049\",\n          \"51920 Kent Junctions Apt. 352\\nWalkerport, NY 11257-6647\",\n          \"0128 Sampson Loop Suite 943\\nHoffmanton, MO 02122\"\n        ],\n        \"semantic_type\": \"\",\n        \"description\": \"\"\n      }\n    },\n    {\n      \"column\": \"Avatar\",\n      \"properties\": {\n        \"dtype\": \"category\",\n        \"num_unique_values\": 138,\n        \"samples\": [\n          \"Azure\",\n          \"White\",\n          \"DarkBlue\"\n        ],\n        \"semantic_type\": \"\",\n        \"description\": \"\"\n      }\n    },\n    {\n      \"column\": \"Avg. Session Length\",\n      \"properties\": {\n        \"dtype\": \"number\",\n        \"std\": 0.9925631110845354,\n        \"min\": 29.532428967057943,\n        \"max\": 36.13966248879052,\n        \"num_unique_values\": 500,\n        \"samples\": [\n          32.077590044329135,\n          32.80869759268502,\n          31.447446494127817\n        ],\n        \"semantic_type\": \"\",\n        \"description\": \"\"\n      }\n    },\n    {\n      \"column\": \"Time on App\",\n      \"properties\": {\n        \"dtype\": \"number\",\n        \"std\": 0.9942156084725423,\n        \"min\": 8.508152176032603,\n        \"max\": 15.126994288792469,\n        \"num_unique_values\": 500,\n        \"samples\": [\n          10.347876945661575,\n          12.817113090284248,\n          10.101632204781014\n        ],\n        \"semantic_type\": \"\",\n        \"description\": \"\"\n      }\n    },\n    {\n      \"column\": \"Time on Website\",\n      \"properties\": {\n        \"dtype\": \"number\",\n        \"std\": 1.0104889067564018,\n        \"min\": 33.91384724758464,\n        \"max\": 40.005181638101895,\n        \"num_unique_values\": 500,\n        \"samples\": [\n          39.04515569638811,\n          37.03153921676629,\n          38.04345265084127\n        ],\n        \"semantic_type\": \"\",\n        \"description\": \"\"\n      }\n    },\n    {\n      \"column\": \"Length of Membership\",\n      \"properties\": {\n        \"dtype\": \"number\",\n        \"std\": 0.9992775024112581,\n        \"min\": 0.2699010899842742,\n        \"max\": 6.922689335035807,\n        \"num_unique_values\": 500,\n        \"samples\": [\n          3.43455972254092,\n          3.8515788003584657,\n          4.238296188412728\n        ],\n        \"semantic_type\": \"\",\n        \"description\": \"\"\n      }\n    },\n    {\n      \"column\": \"Yearly Amount Spent\",\n      \"properties\": {\n        \"dtype\": \"number\",\n        \"std\": 79.31478154970677,\n        \"min\": 256.67058229005585,\n        \"max\": 765.5184619388372,\n        \"num_unique_values\": 500,\n        \"samples\": [\n          401.0331352191061,\n          534.7771880994133,\n          418.602742095224\n        ],\n        \"semantic_type\": \"\",\n        \"description\": \"\"\n      }\n    }\n  ]\n}"
            }
          },
          "metadata": {},
          "execution_count": 2
        }
      ],
      "id": "iQIGI3ws1om6"
    },
    {
      "cell_type": "markdown",
      "metadata": {
        "id": "PYEbCFV21om7"
      },
      "source": [
        "### Tarea 1.2: Análisis Exploratorio (EDA) Básico\n",
        "1. Ejecuta `df.describe()` para revisar las estadísticas descriptivas de las variables numéricas.\n",
        "2. Realiza uno o dos **boxplots** o **histogramas** para visualizar la distribución de:\n",
        "   - **Avg. Session Length**\n",
        "   - **Time on App**\n",
        "   - **Time on Website**\n",
        "   - **Length of Membership**\n",
        "   - **Yearly Amount Spent**\n",
        "\n",
        "**Preguntas de negocio:**\n",
        "1. Si detectas que, por ejemplo, la gente con **mayor** `Length of Membership` gasta más, ¿qué **estrategias** implementarías para retener y \"graduar\" a los nuevos clientes a miembros más \"antiguos\"?\n",
        "2. Si notas que el **Time on Website** es muy bajo vs. **Time on App**, ¿implica que debas mejorar la experiencia en el sitio web para que la gente pase más tiempo allí?"
      ],
      "id": "PYEbCFV21om7"
    },
    {
      "cell_type": "code",
      "metadata": {
        "id": "vRf-CNWA1om8",
        "outputId": "d5d0722a-af28-49c8-9205-839496037e30",
        "colab": {
          "base_uri": "https://localhost:8080/"
        }
      },
      "source": [
        "import pandas as pd\n",
        "\n",
        "# Leer el dataset\n",
        "df = pd.read_csv(\"Ecommerce _Customers.csv\")\n",
        "\n",
        "# Mostrar estadísticas descriptivas\n",
        "print(df.describe())\n"
      ],
      "execution_count": 4,
      "outputs": [
        {
          "output_type": "stream",
          "name": "stdout",
          "text": [
            "       Avg. Session Length  Time on App  Time on Website  \\\n",
            "count           500.000000   500.000000       500.000000   \n",
            "mean             33.053194    12.052488        37.060445   \n",
            "std               0.992563     0.994216         1.010489   \n",
            "min              29.532429     8.508152        33.913847   \n",
            "25%              32.341822    11.388153        36.349257   \n",
            "50%              33.082008    11.983231        37.069367   \n",
            "75%              33.711985    12.753850        37.716432   \n",
            "max              36.139662    15.126994        40.005182   \n",
            "\n",
            "       Length of Membership  Yearly Amount Spent  \n",
            "count            500.000000           500.000000  \n",
            "mean               3.533462           499.314038  \n",
            "std                0.999278            79.314782  \n",
            "min                0.269901           256.670582  \n",
            "25%                2.930450           445.038277  \n",
            "50%                3.533975           498.887875  \n",
            "75%                4.126502           549.313828  \n",
            "max                6.922689           765.518462  \n"
          ]
        }
      ],
      "id": "vRf-CNWA1om8"
    },
    {
      "cell_type": "code",
      "source": [
        "import matplotlib.pyplot as plt\n",
        "import seaborn as sns\n",
        "\n",
        "# Configurar el estilo de los gráficos\n",
        "sns.set(style=\"whitegrid\")\n",
        "plt.rcParams[\"figure.figsize\"] = (15, 10)\n",
        "\n",
        "# Crear una figura con subplots para cada variable\n",
        "fig, axs = plt.subplots(2, 3, figsize=(18, 10))\n",
        "\n",
        "# Boxplot para Avg. Session Length\n",
        "sns.boxplot(y=df['Avg. Session Length'], ax=axs[0, 0])\n",
        "axs[0, 0].set_title('Avg. Session Length')\n",
        "\n",
        "# Boxplot para Time on App\n",
        "sns.boxplot(y=df['Time on App'], ax=axs[0, 1])\n",
        "axs[0, 1].set_title('Time on App')\n",
        "\n",
        "# Boxplot para Time on Website\n",
        "sns.boxplot(y=df['Time on Website'], ax=axs[0, 2])\n",
        "axs[0, 2].set_title('Time on Website')\n",
        "\n",
        "# Boxplot para Length of Membership\n",
        "sns.boxplot(y=df['Length of Membership'], ax=axs[1, 0])\n",
        "axs[1, 0].set_title('Length of Membership')\n",
        "\n",
        "# Boxplot para Yearly Amount Spent\n",
        "sns.boxplot(y=df['Yearly Amount Spent'], ax=axs[1, 1])\n",
        "axs[1, 1].set_title('Yearly Amount Spent')\n",
        "\n",
        "# Eliminar el subplot vacío\n",
        "axs[1, 2].axis('off')\n",
        "\n",
        "plt.tight_layout()\n",
        "plt.show()\n"
      ],
      "metadata": {
        "id": "USOu0Mvt-SiD",
        "outputId": "a9f17772-3dde-4151-df71-d405615c3d74",
        "colab": {
          "base_uri": "https://localhost:8080/",
          "height": 1000
        }
      },
      "id": "USOu0Mvt-SiD",
      "execution_count": 5,
      "outputs": [
        {
          "output_type": "display_data",
          "data": {
            "text/plain": [
              "<Figure size 1800x1000 with 6 Axes>"
            ],
            "image/png": "[encoded data removed]"
          },
          "metadata": {}
        }
      ]
    },
    {
      "cell_type": "markdown",
      "source": [
        "# Implementaría estrategias para incentivar la fidelización y el aumento del tiempo de membresía:\n",
        "# 1. Programas de lealtad con recompensas progresivas: descuentos, acceso exclusivo, envíos prioritarios.  Las recompensas deberían aumentar con el tiempo de membresía.\n",
        "# 2.  Beneficios exclusivos por tiempo de membresía:  Ofertas especiales, eventos VIP.\n",
        "# 3.  Recomendaciones personalizadas basadas en el tiempo de membresía y en el historial de compras.\n",
        "# 4.  Comunicación proactiva con los clientes nuevos, ofreciéndoles un plan de \"graduación\" con metas y beneficios.\n",
        "# 5.  Educación y capacitación en el uso de la plataforma o los productos, para aumentar el valor percibido y la satisfacción.\n",
        "# 6.  Incentivos para referir nuevos clientes:  Recompensas para ambos, el cliente que refiere y el nuevo cliente.\n",
        "\n",
        "# Si notas que el Time on Website es muy bajo vs. Time on App, ¿implica que debas mejorar la experiencia en el sitio web para que la gente pase más tiempo allí?\n",
        "# No necesariamente implica que debas mejorar la experiencia del sitio web para que la gente pase más tiempo allí.  \n",
        "\n",
        "# Posibles acciones:\n",
        "# 1. Análisis A/B: probar diferentes diseños y funcionalidades en el sitio web para medir su impacto.\n",
        "# 2. Optimización para dispositivos móviles:  asegurar que el sitio web sea responsive y fácil de usar en dispositivos móviles.\n",
        "# 3.  Mejoras en UX/UI: simplificar el proceso de compra, mejorar la navegación, añadir contenido relevante.\n",
        "# 4. Comparación de funcionalidades: si la app tiene funcionalidades que el sitio web no ofrece, se debe evaluar si implementarlas en el sitio web, teniendo en cuenta el ROI.\n",
        "# 5.  Análisis de datos demográficos:  si el bajo Time on Website se centra en un grupo demográfico específico, se pueden personalizar las experiencias para ellos en el sitio web.\n",
        "# 6.  Investigación de usuarios: realizar encuestas y entrevistas para entender por qué los usuarios prefieren la app y qué mejoras podrían motivarlos a usar más el sitio web.\n"
      ],
      "metadata": {
        "id": "ONPVhf1x-viN"
      },
      "id": "ONPVhf1x-viN"
    },
    {
      "cell_type": "markdown",
      "metadata": {
        "id": "1PTOZMZf1om9"
      },
      "source": [
        "## 2. Selección de Variables\n",
        "En este dataset, algunas columnas como **Email**, **Address** o **Avatar** no son útiles directamente para el modelo de regresión.\n",
        "\n",
        "### Tarea 2.1: Elegir features\n",
        "- Usarás como variables predictoras (features) las siguientes columnas:\n",
        "  1. **Avg. Session Length**\n",
        "  2. **Time on App**\n",
        "  3. **Time on Website**\n",
        "  4. **Length of Membership**\n",
        "- La columna objetivo (target) será **Yearly Amount Spent**.\n",
        "\n",
        "**Pregunta de negocio**:\n",
        "- ¿Por qué estas columnas tienen sentido para **explicar** el gasto anual? (Piensa en la lógica, \"mientras más tiempo en app, más oportunidades de compra\")."
      ],
      "id": "1PTOZMZf1om9"
    },
    {
      "cell_type": "code",
      "metadata": {
        "id": "L8jyTD2s1om9",
        "outputId": "9ccca574-bde3-450f-bdbd-e53ec569af58",
        "colab": {
          "base_uri": "https://localhost:8080/"
        }
      },
      "source": [
        "import pandas as pd\n",
        "from sklearn.model_selection import train_test_split\n",
        "from sklearn.linear_model import LinearRegression\n",
        "\n",
        "# Cargar el dataset\n",
        "df = pd.read_csv(\"Ecommerce _Customers.csv\")\n",
        "\n",
        "# Seleccionar las variables predictoras (features) y la variable objetivo (target)\n",
        "features = ['Avg. Session Length', 'Time on App', 'Time on Website', 'Length of Membership']\n",
        "target = 'Yearly Amount Spent'\n",
        "\n",
        "X = df[features]\n",
        "y = df[target]\n",
        "\n",
        "# División de los datos en entrenamiento y prueba\n",
        "X_train, X_test, y_train, y_test = train_test_split(X, y, test_size=0.2, random_state=42)\n",
        "\n",
        "# Entrenar el modelo de Regresión Lineal\n",
        "lm = LinearRegression()\n",
        "lm.fit(X_train, y_train)\n",
        "\n",
        "# Realizar predicciones\n",
        "y_pred = lm.predict(X_test)\n",
        "\n",
        "# Evaluar el modelo (por ejemplo, con el R2 score y MSE)\n",
        "from sklearn.metrics import mean_squared_error, r2_score\n",
        "\n",
        "mse = mean_squared_error(y_test, y_pred)\n",
        "r2 = r2_score(y_test, y_pred)\n",
        "\n",
        "print(\"Mean Squared Error:\", mse)\n",
        "print(\"R2 Score:\", r2)"
      ],
      "execution_count": 10,
      "outputs": [
        {
          "output_type": "stream",
          "name": "stdout",
          "text": [
            "Mean Squared Error: 109.8637411839399\n",
            "R2 Score: 0.9778130629184127\n"
          ]
        }
      ],
      "id": "L8jyTD2s1om9"
    },
    {
      "cell_type": "markdown",
      "source": [
        "Las columnas 'Avg. Session Length', 'Time on App', 'Time on Website', y 'Length of Membership' tienen sentido para explicar el gasto anual debido a la correlación lógica entre el tiempo dedicado a la interacción con la empresa y la probabilidad de realizar una compra.  A continuación, una explicación para cada variable:\n",
        "\n",
        "* **Avg. Session Length (Duración promedio de la sesión):**  Una sesión más larga generalmente indica un mayor interés del cliente en los productos o servicios.  Cuanto más tiempo explora un cliente, más probabilidades hay de que encuentre algo que desee comprar.  Sesiones más largas pueden indicar una mejor experiencia del usuario o un mayor engagement con el contenido, lo cual aumenta la posibilidad de una compra.\n",
        "\n",
        "\n",
        "* **Time on App (Tiempo en la aplicación):**  Un tiempo considerable en la app sugiere una mayor exposición a los productos y ofertas. Una app bien diseñada puede facilitar la navegación, la compra y la comparación de productos, aumentando la probabilidad de una compra impulsiva o planeada.\n",
        "\n",
        "* **Time on Website (Tiempo en el sitio web):** Similar al tiempo en la aplicación, el tiempo en el sitio web refleja el interés del cliente en la oferta. Un tiempo extenso en el sitio web puede sugerir que el cliente está investigando, comparando y considerando las opciones disponibles, lo que aumenta la probabilidad de una compra.\n",
        "\n",
        "\n",
        "* **Length of Membership (Duración de la membresía):**  Clientes con mayor antigüedad probablemente sean más leales y estén más familiarizados con la empresa y sus productos. La fidelización conlleva mayor confianza y frecuencia de compra, lo que, a su vez, implica un gasto anual superior.  Clientes antiguos también pueden ser más propensos a compras de mayor valor."
      ],
      "metadata": {
        "id": "5qi3QIfr_lhj"
      },
      "id": "5qi3QIfr_lhj"
    },
    {
      "cell_type": "markdown",
      "metadata": {
        "id": "SWcJ_WaB1om9"
      },
      "source": [
        "## 3. Dividir el Dataset en Entrenamiento y Prueba\n",
        "Para evaluar la capacidad de nuestro modelo de generalizar, dividiremos los datos en **train (80%)** y **test (20%)**.\n",
        "\n",
        "**Pregunta de negocio**:\n",
        "- ¿Cómo explicarías, en términos empresariales, que \"apartamos\" datos para prueba y no los usamos en el entrenamiento? ¿Qué importancia tiene para \"predecir\" clientes futuros?"
      ],
      "id": "SWcJ_WaB1om9"
    },
    {
      "cell_type": "code",
      "metadata": {
        "id": "mZPWtrD-1om-",
        "outputId": "864c6e74-3c0b-466c-e8fc-032efcf04a4b",
        "colab": {
          "base_uri": "https://localhost:8080/"
        }
      },
      "source": [
        "import pandas as pd\n",
        "from sklearn.model_selection import train_test_split\n",
        "from sklearn.linear_model import LinearRegression\n",
        "from sklearn.metrics import mean_squared_error, r2_score\n",
        "\n",
        "# Cargar el dataset\n",
        "df = pd.read_csv(\"Ecommerce _Customers.csv\")\n",
        "\n",
        "# Seleccionar las variables predictoras (features) y la variable objetivo (target)\n",
        "features = ['Avg. Session Length', 'Time on App', 'Time on Website', 'Length of Membership']\n",
        "target = 'Yearly Amount Spent'\n",
        "X = df[features]\n",
        "y = df[target]\n",
        "\n",
        "# Dividir los datos en conjuntos de entrenamiento y prueba:\n",
        "# Train (80%) y Test (20%)\n",
        "X_train, X_test, y_train, y_test = train_test_split(X, y, test_size=0.2, random_state=42)\n",
        "\n",
        "# Mostrar las dimensiones de los conjuntos para verificar la división\n",
        "print(\"Dimensiones de X_train:\", X_train.shape)\n",
        "print(\"Dimensiones de X_test:\", X_test.shape)\n",
        "print(\"Dimensiones de y_train:\", y_train.shape)\n",
        "print(\"Dimensiones de y_test:\", y_test.shape)\n",
        "\n",
        "# Crear y entrenar el modelo de Regresión Lineal con el conjunto de entrenamiento\n",
        "lm = LinearRegression()\n",
        "lm.fit(X_train, y_train)\n",
        "\n",
        "# Realizar predicciones sobre el conjunto de prueba\n",
        "y_pred = lm.predict(X_test)\n",
        "\n",
        "# Evaluar el modelo: Calcular el Error Cuadrático Medio (MSE) y el Coeficiente de Determinación (R²)\n",
        "mse = mean_squared_error(y_test, y_pred)\n",
        "r2 = r2_score(y_test, y_pred)\n",
        "\n",
        "print(\"Mean Squared Error:\", mse)\n",
        "print(\"R^2 Score:\", r2)"
      ],
      "execution_count": 13,
      "outputs": [
        {
          "output_type": "stream",
          "name": "stdout",
          "text": [
            "Dimensiones de X_train: (400, 4)\n",
            "Dimensiones de X_test: (100, 4)\n",
            "Dimensiones de y_train: (400,)\n",
            "Dimensiones de y_test: (100,)\n",
            "Mean Squared Error: 109.8637411839399\n",
            "R^2 Score: 0.9778130629184127\n"
          ]
        }
      ],
      "id": "mZPWtrD-1om-"
    },
    {
      "cell_type": "markdown",
      "source": [
        "¿Cómo explicarías, en términos empresariales, que \"apartamos\" datos para prueba y no los usamos en el entrenamiento? ¿Qué importancia tiene para \"predecir\" clientes futuros?\n",
        "\n",
        "En términos empresariales, reservar una porción de los datos (en este caso, el 20% como conjunto de prueba) para evaluar el modelo, en lugar de usarlo para entrenar, es como realizar una **prueba de campo** antes de lanzar un nuevo producto o campaña de marketing.\n",
        "\n",
        "**Analogía:** Imaginemos que desarrollamos una nueva estrategia de marketing basada en los datos históricos de compras. En vez de aplicar inmediatamente la estrategia a todos nuestros clientes (usando todos los datos), primero la probamos con un grupo pequeño (datos de prueba).  Observamos su efectividad en este grupo antes de implementarla a gran escala.\n",
        "\n",
        "**Importancia para predecir clientes futuros:**\n",
        "\n",
        "* **Evaluación Objetiva:** Usar un conjunto de datos separado para la prueba asegura una evaluación imparcial del modelo.  Si usáramos los mismos datos para entrenar y evaluar, el modelo podría parecer perfecto, pero en realidad solo estaría \"memorizando\" los datos de entrenamiento, sin capacidad de generalizar a nuevos clientes. La prueba nos da una medida de qué tan bien funciona el modelo con datos que *nunca* ha visto antes.\n",
        "\n",
        "* **Prevención del Sobreajuste (Overfitting):** El modelo podría aprender patrones muy específicos de los datos de entrenamiento que no son representativos de la realidad o de nuevos clientes.  La prueba nos ayuda a detectar este *sobreajuste* y ajustar el modelo para que funcione mejor con datos nuevos, evitando así resultados engañosos.\n",
        "\n",
        "* **Simulación de Escenarios Reales:** El conjunto de prueba representa la realidad, con clientes potenciales futuros que no están incluidos en los datos de entrenamiento.  Su desempeño en la prueba nos da una idea realista de cómo se comportará el modelo con clientes nuevos, y nos permite optimizar la estrategia de marketing en consecuencia.\n"
      ],
      "metadata": {
        "id": "F9ld1W1tAz5S"
      },
      "id": "F9ld1W1tAz5S"
    },
    {
      "cell_type": "markdown",
      "metadata": {
        "id": "JfzgPyLF1om-"
      },
      "source": [
        "## 4. Entrenar el Modelo de Regresión Lineal\n",
        "1. **Crea** un objeto `LinearRegression()`.\n",
        "2. **Entrena** el modelo con los datos de entrenamiento.\n",
        "3. **Obtén** el intercepto y los coeficientes resultantes.\n",
        "\n",
        "**Pregunta de negocio**:\n",
        "- Si el coeficiente de `Time on App` es grande y positivo, ¿cómo podrías usar esta información para crear **campañas** o **mejoras** en la aplicación que incentiven al usuario a pasar más tiempo allí?"
      ],
      "id": "JfzgPyLF1om-"
    },
    {
      "cell_type": "code",
      "metadata": {
        "id": "IzGBGbLz1om-",
        "outputId": "afc3f309-0654-4fdc-d11b-fe0c302ef1be",
        "colab": {
          "base_uri": "https://localhost:8080/"
        }
      },
      "source": [
        "import pandas as pd\n",
        "from sklearn.model_selection import train_test_split\n",
        "from sklearn.linear_model import LinearRegression\n",
        "\n",
        "# Cargar el dataset\n",
        "df = pd.read_csv(\"Ecommerce _Customers.csv\")\n",
        "\n",
        "# Seleccionar las variables predictoras (features) y la variable objetivo (target)\n",
        "features = ['Avg. Session Length', 'Time on App', 'Time on Website', 'Length of Membership']\n",
        "target = 'Yearly Amount Spent'\n",
        "X = df[features]\n",
        "y = df[target]\n",
        "\n",
        "# Dividir los datos en entrenamiento (80%) y prueba (20%)\n",
        "X_train, X_test, y_train, y_test = train_test_split(X, y, test_size=0.2, random_state=42)\n",
        "\n",
        "# Crear el objeto de Regresión Lineal\n",
        "lm = LinearRegression()\n",
        "\n",
        "# Entrenar el modelo con los datos de entrenamiento\n",
        "lm.fit(X_train, y_train)\n",
        "\n",
        "# Obtener el intercepto y los coeficientes resultantes\n",
        "intercept = lm.intercept_\n",
        "coefficients = lm.coef_\n",
        "\n",
        "print(\"Intercepto:\", intercept)\n",
        "print(\"Coeficientes:\", coefficients)\n",
        "\n",
        "# Para visualizar qué coeficiente corresponde a cada feature:\n",
        "coef_df = pd.DataFrame({'Feature': features, 'Coefficient': coefficients})\n",
        "print(coef_df)"
      ],
      "execution_count": 15,
      "outputs": [
        {
          "output_type": "stream",
          "name": "stdout",
          "text": [
            "Intercepto: -1044.2574146365582\n",
            "Coeficientes: [25.5962591  38.78534598  0.31038593 61.89682859]\n",
            "                Feature  Coefficient\n",
            "0   Avg. Session Length    25.596259\n",
            "1           Time on App    38.785346\n",
            "2       Time on Website     0.310386\n",
            "3  Length of Membership    61.896829\n"
          ]
        }
      ],
      "id": "IzGBGbLz1om-"
    },
    {
      "cell_type": "markdown",
      "source": [
        "Si el coeficiente de 'Time on App' es grande y positivo, significa que por cada unidad de aumento en el tiempo que un usuario pasa en la aplicación, su gasto anual aumenta significativamente.  Podemos usar esta información para crear campañas y mejoras en la aplicación que incentiven a los usuarios a pasar más tiempo allí.\n",
        "\n",
        "# 1. Notificaciones y recordatorios personalizados:\n",
        "#    - Enviar notificaciones push o correos electrónicos personalizados que recuerden a los usuarios sobre productos que han visto recientemente, ofertas especiales o productos que podrían interesarles según su historial de navegación.\n",
        "#    - Implementar recordatorios en la aplicación para productos en su carrito de compras o artículos guardados.\n",
        "# 2. Gamificación:\n",
        "#    - Introducir elementos de gamificación en la aplicación, como puntos de recompensa, insignias o niveles que se otorgan por el tiempo de uso, las compras o la participación en actividades dentro de la app.\n",
        "#    - Mostrar un progreso visual al usuario (barra de progreso, niveles) para incentivar a alcanzar metas de tiempo en la app.\n",
        "# 3. Contenido exclusivo y personalizado:\n",
        "#    - Ofrecer contenido exclusivo (descuentos especiales, acceso anticipado a productos, contenido multimedia) a los usuarios que pasan una cantidad significativa de tiempo en la app.\n",
        "#    - Mostrar recomendaciones más personalizadas en función del historial de navegación y el tiempo dedicado a la app.\n",
        "# 4. Mejoras en la interfaz de usuario y experiencia del usuario:\n",
        "#    - Simplificar la navegación y facilitar la búsqueda para que los usuarios encuentren fácilmente lo que buscan.\n",
        "#    - Mejorar la calidad y la cantidad de contenido disponible dentro de la aplicación para que los usuarios tengan más cosas que explorar y descubrir.\n",
        "#    - Implementar un sistema de chat en vivo o de soporte al cliente dentro de la aplicación para que los usuarios puedan obtener ayuda rápidamente.\n",
        "# 5. Descuentos o promociones exclusivos:\n",
        "#    - Ofrecer descuentos o promociones especiales a los usuarios que pasan una cierta cantidad de tiempo en la aplicación cada día o semana.\n",
        "#    - Implementar \"compras flash\" o ofertas por tiempo limitado dentro de la aplicación.\n",
        "# 6. Recompensas por el tiempo:\n",
        "#   - Implementar un sistema de recompensas progresivas para el tiempo en la app.\n",
        "#   - Por ejemplo, después de 10 minutos diarios, se desbloquea una funcionalidad, un descuento o un cupón.\n",
        "# 7. Eventos en la aplicación:\n",
        "#   - Organizar eventos o concursos dentro de la app que requieran tiempo para participar.\n",
        "#   - Los usuarios que participen ganan premios o descuentos especiales.\n",
        "# 8. Integraciones con Redes Sociales:\n",
        "#   - Incentivar el intercambio de contenido o el registro desde redes sociales."
      ],
      "metadata": {
        "id": "znommQg3BW_B"
      },
      "id": "znommQg3BW_B"
    },
    {
      "cell_type": "markdown",
      "metadata": {
        "id": "u1zkBsr11om-"
      },
      "source": [
        "## 5. Evaluación del Modelo\n",
        "1. **Predice** en el conjunto de prueba.\n",
        "2. Calcula las **métricas** MSE, MAE y R² para verificar la calidad de tu modelo. No profundizaremos en residuos, solo en la idea de si el modelo \"le atina\" al gasto anual.\n",
        "\n",
        "**Preguntas de negocio**:\n",
        "1. ¿Qué interpretas si **R²** es cercano a 0.80 o 0.90? ¿El modelo es “bueno” para tus objetivos?\n",
        "2. Si el **MAE** es, por ejemplo, 15 USD, ¿es aceptable ese margen de error para tu negocio?"
      ],
      "id": "u1zkBsr11om-"
    },
    {
      "cell_type": "code",
      "metadata": {
        "id": "Ktf854eT1om_",
        "outputId": "3df296dd-e98f-48cd-96ce-35e2af25016b",
        "colab": {
          "base_uri": "https://localhost:8080/"
        }
      },
      "source": [
        "from sklearn.metrics import mean_absolute_error\n",
        "\n",
        "y_pred = lm.predict(X_test)\n",
        "\n",
        "mse = mean_squared_error(y_test, y_pred)\n",
        "mae = mean_absolute_error(y_test, y_pred)\n",
        "r2 = r2_score(y_test, y_pred)\n",
        "\n",
        "print(f\"Mean Squared Error (MSE): {mse}\")\n",
        "print(f\"Mean Absolute Error (MAE): {mae}\")\n",
        "print(f\"R-squared (R2): {r2}\")\n"
      ],
      "execution_count": 16,
      "outputs": [
        {
          "output_type": "stream",
          "name": "stdout",
          "text": [
            "Mean Squared Error (MSE): 109.8637411839399\n",
            "Mean Absolute Error (MAE): 8.558441885315231\n",
            "R-squared (R2): 0.9778130629184127\n"
          ]
        }
      ],
      "id": "Ktf854eT1om_"
    },
    {
      "cell_type": "markdown",
      "source": [
        "¿Qué interpretas si R² es cercano a 0.80 o 0.90? ¿El modelo es “bueno” para tus objetivos?\n",
        "# Un R² de 0.80 o 0.90 indica que el modelo explica el 80% o 90% de la variabilidad en el gasto anual de los clientes.  Esto sugiere un buen ajuste del modelo a los datos. Sin embargo, si el objetivo es una predicción extremadamente precisa para tomar decisiones cruciales, se podría buscar mejorar el modelo o considerar variables adicionales.  La \"bondad\" del modelo depende de los objetivos específicos.  Un R² de 0.80 puede ser excelente en un contexto, pero insuficiente en otro donde se requiera una predicción muy precisa.\n",
        "\n",
        "\n",
        "# Si el MAE es, por ejemplo, 15 USD, ¿es aceptable ese margen de error para tu negocio?\n",
        "# Un MAE de 15 USD significa que, en promedio, las predicciones del modelo difieren del gasto real en 15 USD.  Para determinar si es aceptable, necesitamos contexto:\n",
        "\n",
        "# * Gasto promedio de los clientes: Si el gasto anual promedio es de 500 USD, un MAE de 15 USD representa un error del 3%, lo cual podría ser aceptable.  \n",
        "# * Impacto en la toma de decisiones:  Si el negocio está utilizando el modelo para decisiones de marketing o promociones, donde la precisión es crucial, un MAE de 15 USD podría ser demasiado alto.  Por ejemplo, si el valor de vida del cliente (CLV) es bajo, o si se usa para dirigir campañas muy específicas, 15 USD podría ser significativo.\n",
        "# * Costo de la imprecisión: Considerar las consecuencias de una predicción errónea. Si la sobreestimación lleva a una oferta demasiado generosa, o si la subestimación resulta en una oportunidad perdida con un cliente de alto valor, el impacto de un MAE de 15 USD podría ser crucial.\n",
        "# * Otros aspectos del negocio: Se deben considerar las estrategias de marketing, los rangos de precios de los productos, el perfil promedio de los clientes y el mercado.\n",
        "# * Comparación con otros modelos: Se debe evaluar si este error es mejor o peor que lo alcanzado con otros modelos.\n",
        "\n"
      ],
      "metadata": {
        "id": "rDZD4nF_Bnlq"
      },
      "id": "rDZD4nF_Bnlq"
    },
    {
      "cell_type": "markdown",
      "metadata": {
        "id": "e_YpOryA1om_"
      },
      "source": [
        "## 6. Interpretación y Aplicación Práctica\n",
        "1. **Observa** los coeficientes resultantes: ¿qué variable es la más influyente? ¿Cómo impacta eso en tu estrategia de negocios?\n",
        "2. **Propuestas** de acción:\n",
        "   - Si `Time on App` es el que más incide, podrías **invertir** más en mejoras de la app.\n",
        "   - Si `Length of Membership` está ligado a más gasto, podrías **fidelizar** a los nuevos clientes con promociones.\n",
        "\n",
        "**Preguntas de negocio**:\n",
        "1. ¿Cómo comunicarías estos resultados a un equipo directivo que no maneja detalles estadísticos?\n",
        "2. ¿Qué **acciones concretas** aplicarías para aumentar el gasto anual de los clientes, basándote en los coeficientes del modelo?"
      ],
      "id": "e_YpOryA1om_"
    },
    {
      "cell_type": "code",
      "source": [
        "print(coef_df)\n",
        "\n",
        "# Identifica la variable más influyente\n",
        "most_influential_variable = coef_df.loc[coef_df['Coefficient'].abs().idxmax(), 'Feature']\n",
        "print(f\"\\nLa variable más influyente es: {most_influential_variable}\")\n",
        "\n",
        "# Propuesta de acción basada en la variable más influyente\n",
        "if most_influential_variable == 'Time on App':\n",
        "  print(\"\\nEstrategia recomendada: Invertir más en mejoras de la app para aumentar el tiempo de uso.\")\n",
        "elif most_influential_variable == 'Length of Membership':\n",
        "  print(\"\\nEstrategia recomendada: Fidelizar a los nuevos clientes con promociones para aumentar la duración de la membresía.\")\n",
        "elif most_influential_variable == 'Avg. Session Length':\n",
        "    print(\"\\nEstrategia recomendada: Mejorar la experiencia de usuario para alargar las sesiones.\")\n",
        "elif most_influential_variable == 'Time on Website':\n",
        "    print(\"\\nEstrategia recomendada: Optimizar el sitio web para mejorar el tiempo que los usuarios pasan en él.\")\n",
        "else:\n",
        "  print(\"\\nNo se pudo identificar una estrategia clara.\")\n",
        "\n",
        "\n",
        "# Cómo comunicar estos resultados a un equipo directivo que no maneja detalles estadísticos\n",
        "print(\"\\nComunicación para equipo directivo:\")\n",
        "print(f\"Hemos analizado el comportamiento de compra de nuestros clientes y hemos identificado que el tiempo que pasan en la {most_influential_variable} es un factor clave para determinar cuánto gastan en nuestro negocio.  Por cada unidad de aumento en el tiempo de uso de la {most_influential_variable}, se observa un aumento significativo en el gasto anual.\")\n",
        "\n",
        "\n",
        "# Acciones concretas para aumentar el gasto anual de los clientes\n",
        "print(\"\\nAcciones concretas:\")\n",
        "\n",
        "if most_influential_variable == 'Time on App':\n",
        "    print(\"- Implementar notificaciones push personalizadas.\")\n",
        "    print(\"- Mejorar la experiencia de usuario en la aplicación.\")\n",
        "\n",
        "elif most_influential_variable == 'Length of Membership':\n",
        "    print(\"- Ofrecer promociones especiales a los nuevos clientes.\")\n",
        "    print(\"- Implementar un programa de fidelización.\")\n",
        "\n",
        "elif most_influential_variable == 'Avg. Session Length':\n",
        "    print(\"- Implementar un chat en vivo en el sitio web para una mejor atención al cliente.\")\n",
        "    print(\"- Optimizar la velocidad de carga de las páginas.\")\n",
        "\n",
        "elif most_influential_variable == 'Time on Website':\n",
        "    print(\"- Mejorar el diseño del sitio web para que sea mas intuitivo.\")\n",
        "    print(\"- Ofrecer contenido de calidad y relevante.\")\n"
      ],
      "metadata": {
        "id": "Rrq00rRAB0QN",
        "outputId": "e1befde2-4570-47d1-b9c5-c56db03ffb93",
        "colab": {
          "base_uri": "https://localhost:8080/"
        }
      },
      "id": "Rrq00rRAB0QN",
      "execution_count": 17,
      "outputs": [
        {
          "output_type": "stream",
          "name": "stdout",
          "text": [
            "                Feature  Coefficient\n",
            "0   Avg. Session Length    25.596259\n",
            "1           Time on App    38.785346\n",
            "2       Time on Website     0.310386\n",
            "3  Length of Membership    61.896829\n",
            "\n",
            "La variable más influyente es: Length of Membership\n",
            "\n",
            "Estrategia recomendada: Fidelizar a los nuevos clientes con promociones para aumentar la duración de la membresía.\n",
            "\n",
            "Comunicación para equipo directivo:\n",
            "Hemos analizado el comportamiento de compra de nuestros clientes y hemos identificado que el tiempo que pasan en la Length of Membership es un factor clave para determinar cuánto gastan en nuestro negocio.  Por cada unidad de aumento en el tiempo de uso de la Length of Membership, se observa un aumento significativo en el gasto anual.\n",
            "\n",
            "Acciones concretas:\n",
            "- Ofrecer promociones especiales a los nuevos clientes.\n",
            "- Implementar un programa de fidelización.\n"
          ]
        }
      ]
    },
    {
      "cell_type": "markdown",
      "metadata": {
        "id": "ABGSRcoA1om_"
      },
      "source": [
        "## 7. Conclusión: Caso de Negocio Real\n",
        "1. Redacta un breve **informe** o explicación final que responda:\n",
        "   - ¿Qué **variables** explican mejor el gasto anual?\n",
        "   - ¿Qué recomendaciones propones para aumentar el **Yearly Amount Spent**?\n",
        "2. **Limitaciones**: Menciona cualquier aspecto que el modelo no cubra (datos no considerados, linealidad asumida, etc.).\n",
        "\n",
        "Con estos pasos, podrás llevar la **visión estadística** a un **plan de acción** en tu estrategia de negocio."
      ],
      "id": "ABGSRcoA1om_"
    },
    {
      "cell_type": "markdown",
      "source": [
        "# Informe final\n",
        "\n",
        "# Variables que explican mejor el gasto anual:\n",
        "\n",
        "# De acuerdo con el análisis de regresión lineal, la variable que mejor explica el gasto anual es la [most_influential_variable]. Las otras variables como 'Avg. Session Length', 'Time on App', 'Time on Website', y 'Length of Membership' también contribuyen a explicar el gasto anual, aunque con menor peso que la [most_influential_variable].\n",
        "\n",
        "\n",
        "# Recomendaciones para aumentar el Yearly Amount Spent:\n",
        "\n",
        "# Para aumentar el gasto anual de los clientes, se recomienda priorizar las siguientes acciones:\n",
        "# * Si la variable mas influyente es el tiempo en la app, centrarse en mejorar la experiencia dentro de la aplicacion, creando notificaciones personalizadas, gamificación y contenido exclusivo, entre otros.\n",
        "# * Si la variable mas influyente es la duración de la membresia, se deberia enfocar en estrategias de fidelizacion para retener a los clientes.\n",
        "# * En general, acciones que mejoren la experiencia del usuario e incentiven la interacción con la empresa son positivas.\n",
        "\n",
        "# Limitaciones del modelo:\n",
        "\n",
        "# El modelo de regresión lineal asume una relación lineal entre las variables predictoras y el gasto anual.  Es posible que la relación real sea más compleja.  Además, el modelo no considera otras variables que podrían influir en el gasto anual, como la ubicación geográfica del cliente, su nivel de ingresos, preferencias demográficas, campañas de marketing específicas, entre otras.\n"
      ],
      "metadata": {
        "id": "eGTUc9whCKGs"
      },
      "id": "eGTUc9whCKGs"
    },
    {
      "cell_type": "markdown",
      "metadata": {
        "id": "F5y-ki681om_"
      },
      "source": [
        "# Resumen de las Tareas\n",
        "1. **EDA Rápido**: Cargar y describir el dataset.\n",
        "2. **Selección de Variables**: Explicar por qué se usan las columnas numéricas y se ignoran Email/Address.\n",
        "3. **Entrenamiento**: Ajustar el modelo de Regresión con `Avg. Session Length`, `Time on App`, `Time on Website`, `Length of Membership`.\n",
        "4. **Evaluación**: Observar MSE, MAE, R².\n",
        "5. **Interpretación**: Explicar cómo usaría el negocio estos resultados.\n",
        "\n",
        "## ¡Listo para Analizar!\n",
        "Sigue estos pasos, responde las **preguntas de negocio** y, sobre todo, **conecta** tus hallazgos con **acciones** en el mundo real.\n",
        "\n",
        "> **Nota**: Puedes consultar documentación o herramientas como ChatGPT si lo requieres, pero recuerda que las **respuestas** deben ser **tuyas**, pensando en el contexto de negocio y la lógica detrás de los coeficientes. ¡Éxito!"
      ],
      "id": "F5y-ki681om_"
    }
  ],
  "metadata": {
    "kernelspec": {
      "display_name": "Python 3",
      "language": "python",
      "name": "python3"
    },
    "language_info": {
      "name": "python",
      "version": "3.9"
    },
    "colab": {
      "provenance": []
    }
  },
  "nbformat": 4,
  "nbformat_minor": 5
}