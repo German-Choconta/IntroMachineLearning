{
  "nbformat": 4,
  "nbformat_minor": 0,
  "metadata": {
    "colab": {
      "provenance": []
    },
    "kernelspec": {
      "name": "python3",
      "display_name": "Python 3"
    },
    "language_info": {
      "name": "python"
    }
  },
  "cells": [
    {
      "cell_type": "code",
      "execution_count": 1,
      "metadata": {
        "colab": {
          "base_uri": "https://localhost:8080/"
        },
        "id": "0vQpTe3UfdGS",
        "outputId": "cf89e9bb-89fd-49c3-b0cd-95b3fbd6fd8c"
      },
      "outputs": [
        {
          "output_type": "stream",
          "name": "stdout",
          "text": [
            "Dataset loaded successfully.\n",
            "   loan_id   no_of_dependents      education  self_employed   income_annum  \\\n",
            "0        1                  2       Graduate             No        9600000   \n",
            "1        2                  0   Not Graduate            Yes        4100000   \n",
            "2        3                  3       Graduate             No        9100000   \n",
            "3        4                  3       Graduate             No        8200000   \n",
            "4        5                  5   Not Graduate            Yes        9800000   \n",
            "\n",
            "    loan_amount   loan_term   cibil_score   residential_assets_value  \\\n",
            "0      29900000          12           778                    2400000   \n",
            "1      12200000           8           417                    2700000   \n",
            "2      29700000          20           506                    7100000   \n",
            "3      30700000           8           467                   18200000   \n",
            "4      24200000          20           382                   12400000   \n",
            "\n",
            "    commercial_assets_value   luxury_assets_value   bank_asset_value  \\\n",
            "0                  17600000              22700000            8000000   \n",
            "1                   2200000               8800000            3300000   \n",
            "2                   4500000              33300000           12800000   \n",
            "3                   3300000              23300000            7900000   \n",
            "4                   8200000              29400000            5000000   \n",
            "\n",
            "   loan_status  \n",
            "0     Approved  \n",
            "1     Rejected  \n",
            "2     Rejected  \n",
            "3     Rejected  \n",
            "4     Rejected  \n"
          ]
        }
      ],
      "source": [
        "import pandas as pd\n",
        "\n",
        "# URL of the dataset\n",
        "url = \"https://raw.githubusercontent.com/javierherrera1996/IntroMachineLearning/refs/heads/main/SegundoCorte/loan_approval_dataset.csv\"\n",
        "\n",
        "# Load the dataset into a pandas DataFrame\n",
        "try:\n",
        "  df = pd.read_csv(url)\n",
        "  print(\"Dataset loaded successfully.\")\n",
        "  # Now you can work with the DataFrame 'df'\n",
        "  # For example, display the first few rows:\n",
        "  print(df.head())\n",
        "except Exception as e:\n",
        "  print(f\"An error occurred: {e}\")"
      ]
    },
    {
      "cell_type": "markdown",
      "source": [
        "En este taller, trabajaremos con un conjunto de datos relacionado con la aprobaci´on de pr´estamos. El\n",
        "objetivo es aplicar t´ecnicas de an´alisis de datos y Machine Learning para entender c´omo los distintos\n",
        "factores influyen en la decisi´on de aprobaci´on o rechazo del pr´estamo.\n",
        "El conjunto de datos contiene las siguientes columnas:\n",
        "• loan id: Identificador ´unico del pr´estamo\n",
        "• no of dependents: N´umero de dependientes del solicitante\n",
        "• education: Nivel educativo del solicitante (Graduate o Not Graduate)\n",
        "• self employed: Si el solicitante es autoempleado (Yes o No)\n",
        "• income annum: Ingreso anual del solicitante en unidades monetarias\n",
        "• loan amount: Monto solicitado para el pr´estamo\n",
        "• loan term: Duraci´on del pr´estamo en a˜nos\n",
        "• cibil score: Puntaje CIBIL del solicitante\n",
        "• residential assets value: Valor de los activos residenciales del solicitante\n",
        "• commercial assets value: Valor de los activos comerciales del solicitante\n",
        "• luxury assets value: Valor de los activos de lujo del solicitante\n",
        "• bank asset value: Valor de los activos bancarios del solicitante\n",
        "• loan status: Estado del pr´estamo (Aprobado o Rechazado)"
      ],
      "metadata": {
        "id": "xJXYm77pf4Ii"
      }
    },
    {
      "cell_type": "code",
      "source": [
        "df.columns\n"
      ],
      "metadata": {
        "colab": {
          "base_uri": "https://localhost:8080/"
        },
        "id": "MFqCDpDFfslg",
        "outputId": "df6257a9-87e1-414f-b783-38a2f9b28971"
      },
      "execution_count": 3,
      "outputs": [
        {
          "output_type": "execute_result",
          "data": {
            "text/plain": [
              "Index(['loan_id', ' no_of_dependents', ' education', ' self_employed',\n",
              "       ' income_annum', ' loan_amount', ' loan_term', ' cibil_score',\n",
              "       ' residential_assets_value', ' commercial_assets_value',\n",
              "       ' luxury_assets_value', ' bank_asset_value', ' loan_status'],\n",
              "      dtype='object')"
            ]
          },
          "metadata": {},
          "execution_count": 3
        }
      ]
    },
    {
      "cell_type": "markdown",
      "source": [
        "# 2 Preguntas Te´oricas\n"
      ],
      "metadata": {
        "id": "ECaYJh4fgchi"
      }
    },
    {
      "cell_type": "markdown",
      "source": [
        "Responde las siguientes preguntas relacionadas con los conceptos de an´alisis de datos, estad´ısticas y\n",
        "Machine Learning.\n"
      ],
      "metadata": {
        "id": "fkZxP4NYgfKV"
      }
    },
    {
      "cell_type": "markdown",
      "source": [
        "# 2.1 Pregunta 1: An´alisis Exploratorio de Datos (EDA)\n"
      ],
      "metadata": {
        "id": "r7-v6pOFggi5"
      }
    },
    {
      "cell_type": "markdown",
      "source": [
        "¿Qu´e pasos seguir´ıas para realizar un an´alisis exploratorio de los datos antes de construir un modelo de\n",
        "Machine Learning? Explica cada paso y menciona las herramientas que utilizar´ıas."
      ],
      "metadata": {
        "id": "lG6NppMzgkJ1"
      }
    },
    {
      "cell_type": "markdown",
      "source": [
        "Comprensión del problema y los datos\n",
        "\n",
        "Definir el objetivo del análisis y la pregunta que se busca responder con el modelo de Machine Learning.\n",
        "\n",
        "Entender el contexto de los datos, su origen, y la forma en que fueron recolectados.\n",
        "\n",
        "Revisar la documentación del dataset (si la hay) para comprender el significado de cada variable y su posible relación con el objetivo.\n",
        "Herramientas: Hojas de cálculo, documentación del proyecto.\n",
        "\n",
        "Carga y limpieza de los datos\n",
        "\n",
        "Cargar los datos en un entorno de análisis (por ejemplo, Pandas en Python).\n",
        "\n",
        "Identificar y manejar valores faltantes (NaN): eliminar filas o columnas, imputar valores con la media, mediana o moda, o utilizar métodos más sofisticados de imputación.\n",
        "\n",
        "Identificar y tratar datos atípicos (outliers): eliminar, transformar o sustituir por valores más representativos.\n",
        "\n",
        "Convertir tipos de datos a los formatos adecuados (numérico, categórico, fecha, etc.)\n",
        "Herramientas: Pandas, NumPy, Scikit-learn (SimpleImputer, etc.)\n",
        "\n",
        "Exploración univariada\n",
        "\n",
        "Analizar cada variable individualmente para entender su distribución, tendencia central, dispersión y valores únicos.\n",
        "\n",
        "Histograma, box plot, diagrama de barras para variables numéricas.\n",
        "\n",
        "Tablas de frecuencia, diagramas de barras para variables categóricas.\n",
        "\n",
        "Calcular estadísticas descriptivas (media, mediana, desviación estándar, percentiles).\n",
        "Herramientas: Pandas, Matplotlib, Seaborn.\n",
        "\n",
        "Exploración bivariada y multivariada\n",
        "\n",
        "Analizar las relaciones entre pares de variables (diagramas de dispersión, matrices de correlación).\n",
        "\n",
        "Identificar patrones y tendencias.\n",
        "\n",
        "Para más de dos variables, se pueden utilizar técnicas como análisis de componentes principales (PCA).\n",
        "Herramientas: Pandas, Matplotlib, Seaborn.\n",
        "\n",
        "Visualización de datos\n",
        "\n",
        "Crear gráficos y visualizaciones para representar los patrones y tendencias identificadas en los pasos anteriores.\n",
        "\n",
        "Las visualizaciones deben ser claras, concisas y fáciles de entender para la audiencia.\n",
        "Herramientas: Matplotlib, Seaborn, Plotly.\n",
        "\n",
        "Formulación de hipótesis\n",
        "\n",
        "Basado en el EDA, formular hipótesis sobre las relaciones entre las variables y el objetivo.\n",
        "\n",
        "Preparación de los datos para el modelado\n",
        "\n",
        "Conversión de variables categóricas a numéricas (one-hot encoding, label encoding).\n",
        "\n",
        "Escalado de características (normalización, estandarización).\n",
        "\n",
        "Selección de características (eliminar variables irrelevantes).\n",
        "Herramientas: Pandas, Scikit-learn.\n",
        "\n"
      ],
      "metadata": {
        "id": "ipZleQjig9ZD"
      }
    },
    {
      "cell_type": "markdown",
      "source": [
        "# 2.2 Pregunta 2: Preprocesamiento de Datos\n"
      ],
      "metadata": {
        "id": "TVreOcUzg_52"
      }
    },
    {
      "cell_type": "markdown",
      "source": [
        "Imagina que uno de los datos contiene valores faltantes o at´ıpicos (outliers). ¿Qu´e t´ecnicas utilizar´ıas\n",
        "para tratar con estos problemas en el conjunto de datos de la tabla? Justifica tu respuesta"
      ],
      "metadata": {
        "id": "L-I-LYaThCm-"
      }
    },
    {
      "cell_type": "markdown",
      "source": [
        "Para tratar valores faltantes y atípicos (outliers) en el conjunto de datos de aprobación de préstamos, emplearía las siguientes técnicas, justificando cada una:\n",
        "\n",
        "**Valores Faltantes:**\n",
        "\n",
        "1. **Imputación con la media, mediana o moda:**  Para variables numéricas como `income annum`, `loan amount`, o valores de activos, la imputación con la mediana es preferible a la media, ya que es menos sensible a outliers.  Para variables categóricas como `education`, `self employed`, o `loan status`, usaría la moda (valor más frecuente).  La justificación es que estos métodos son sencillos de implementar y mantienen la distribución original de los datos, aunque pueden introducir sesgo si la cantidad de valores faltantes es significativa.\n",
        "\n",
        "2. **Imputación usando K-NN:** Este método considera los k vecinos más cercanos (en términos de otras características) para estimar el valor faltante.  Es útil cuando las variables están correlacionadas, pues toma en cuenta las relaciones entre las mismas.  Sin embargo, es computacionalmente más costoso que la imputación por la media/mediana/moda.  Se justifica su uso si la cantidad de valores perdidos no es demasiado alta y existe una correlación significativa entre las variables.\n",
        "\n",
        "3. **Eliminación de filas o columnas:** Si la cantidad de valores faltantes en una columna es muy alta (por ejemplo, más del 50%), o si los valores faltantes están concentrados en pocas filas, se podría considerar la eliminación de la columna o las filas afectadas.  Sin embargo, esto implica pérdida de información y sólo se justifica si la variable no es crucial o si la pérdida de datos no afecta significativamente el análisis posterior.\n",
        "\n",
        "**Valores Atípicos (Outliers):**\n",
        "\n",
        "1. **Análisis de caja y bigotes (Box Plot):**  Usaría box plots para visualizar la distribución de las variables numéricas e identificar outliers visualmente.  Esto ayuda a entender si los outliers son errores de medición o si representan valores válidos pero extremos.\n",
        "\n",
        "2. **Z-Score o método IQR:** Para cuantificar la presencia de outliers, utilizaría el Z-score o el método intercuartílico (IQR).  Ambos métodos identifican valores que se desvían significativamente de la media o mediana.  Los datos que sobrepasen un umbral determinado (p.ej., Z-score > 3 o fuera del rango IQR) serían candidatos a ser tratados.\n",
        "\n",
        "3. **Transformación de datos:** En lugar de eliminar outliers, se pueden transformar las variables para reducir su impacto.  Las transformaciones logarítmicas o Box-Cox pueden comprimir la escala de los valores extremos, haciendo que la influencia de los outliers en el modelo sea menor. Se justifica su uso cuando la presencia de outliers es muy probable.\n",
        "\n",
        "4. **Winsorización o truncamiento:**  Este método consiste en sustituir los valores extremos por un valor límite, generalmente un percentil específico (por ejemplo, el percentil 95 o 5). Es preferible a la eliminación de outliers ya que no se pierde información.  Su justificación radica en casos donde las observaciones extremas no se consideran erróneas pero pueden afectar la precisión del modelo.\n",
        "\n",
        "5. **Modelos robustos:**  Algunos algoritmos de Machine Learning, como los basados en árboles de decisión, son menos sensibles a los outliers. Si el modelo a usar es sensible a valores extremos, la eliminación o las transformaciones de datos pueden afectar al modelo final.\n"
      ],
      "metadata": {
        "id": "8yE8fHr1hIan"
      }
    },
    {
      "cell_type": "markdown",
      "source": [
        "# 2.3 Pregunta 3: Modelos de Clasificaci´on\n"
      ],
      "metadata": {
        "id": "LMYQ3FHJhMHX"
      }
    },
    {
      "cell_type": "markdown",
      "source": [
        "En este caso, el objetivo es predecir si un pr´estamo ser´a aprobado o rechazado en funci´on de las caracter´ısticas del solicitante. ¿Qu´e tipo de modelo de clasificaci´on usar´ıas y por qu´e? Discute las ventajas y\n",
        "desventajas de este modelo"
      ],
      "metadata": {
        "id": "BzAR11C0hOzW"
      }
    },
    {
      "cell_type": "markdown",
      "source": [
        "Para predecir la aprobación o rechazo de un préstamo, recomendaría usar un **modelo de Regresión Logística**.\n",
        "\n",
        "**Razones:**\n",
        "\n",
        "* **Naturaleza de la variable objetivo:** La variable objetivo (\"loan status\") es binaria (aprobado/rechazado), lo que hace que la regresión logística sea una opción natural.  Este modelo predice la probabilidad de que un préstamo sea aprobado, lo cual es directamente interpretable en este contexto.\n",
        "\n",
        "* **Interpretabilidad:** La regresión logística ofrece una buena interpretabilidad.  Se pueden analizar los coeficientes del modelo para entender la influencia de cada característica en la probabilidad de aprobación.  Esto es crucial para comprender *por qué* el modelo toma ciertas decisiones y puede ayudar a identificar factores de riesgo importantes.\n",
        "\n",
        "* **Sencillez y eficiencia:** Es relativamente simple de implementar y entrenar, y computacionalmente eficiente, especialmente con conjuntos de datos de tamaño moderado como el que se presenta.\n",
        "\n",
        "\n",
        "**Ventajas:**\n",
        "\n",
        "* **Interpretabilidad:** Como se mencionó, la interpretabilidad es una gran ventaja, permitiendo entender la relación entre las variables predictoras y la probabilidad de aprobación.\n",
        "* **Eficiencia:** Es computacionalmente eficiente, especialmente en conjuntos de datos moderados.\n",
        "* **Probabilidades:**  Proporciona probabilidades de clase, lo que permite establecer umbrales de decisión flexibles.\n",
        "\n",
        "\n",
        "**Desventajas:**\n",
        "\n",
        "* **Asunción de linealidad:**  La regresión logística asume una relación lineal entre las variables predictoras y el logaritmo de las probabilidades. Si las relaciones son no lineales, el modelo puede no desempeñarse de manera óptima. Se puede recurrir a transformaciones de variables o a modelos más complejos si es necesario.\n",
        "* **Sensibilidad a valores atípicos:** Al igual que otros modelos lineales, puede ser sensible a valores atípicos. Un preprocesamiento adecuado (como se discutió en la pregunta 2.2) es esencial.\n",
        "* **Limitaciones en datos multidimensionales:** Puede tener dificultades para modelar relaciones complejas en datos con muchas variables altamente correlacionadas o con interacciones no lineales.  En esos casos, se podrían considerar modelos más sofisticados como máquinas de vectores de soporte, árboles de decisión o redes neuronales.\n",
        "\n",
        "\n",
        "**Consideraciones adicionales:**\n",
        "\n",
        "Dependiendo de la exploración de datos (EDA), se pueden considerar alternativas como:\n",
        "\n",
        "* **Árboles de Decisión o Random Forest:**  Si se encuentran relaciones no lineales complejas en los datos, estos modelos podrían ser más precisos. Sin embargo, pierden parte de la interpretabilidad de la regresión logística.\n",
        "* **Máquinas de vectores de soporte (SVM):**  Pueden ser útiles si la relación entre las variables es compleja, aunque son menos interpretables que la regresión logística.\n"
      ],
      "metadata": {
        "id": "yLFXVg1AhXJo"
      }
    },
    {
      "cell_type": "markdown",
      "source": [
        "# 2.4 Pregunta 4: Desbalanceo de Clases\n"
      ],
      "metadata": {
        "id": "e2kgYbXEhaRE"
      }
    },
    {
      "cell_type": "markdown",
      "source": [
        "\n",
        "El desbalanceo de clases ocurre cuando en un conjunto de datos para clasificación, una clase (o varias) tiene significativamente más ejemplos que otras.  Por ejemplo, en un dataset de detección de fraude, las transacciones legítimas usualmente superan ampliamente a las fraudulentas.\n",
        "\n",
        "Este desbalanceo es problemático al entrenar un modelo porque puede llevar a sesgos.  Un modelo entrenado con datos desbalanceados tenderá a predecir mayoritariamente la clase dominante, alcanzando alta precisión pero baja exactitud.  Esto significa que aunque el modelo clasifique correctamente la mayoría de las instancias, su capacidad para identificar la clase minoritaria (la que suele ser la más relevante) será muy pobre.  En el ejemplo del fraude, el modelo podría clasificar la mayoría de transacciones como legítimas (alta precisión) pero fallar en identificar las fraudulentas, que son las que realmente nos interesan.\n",
        "\n",
        "Para abordar este problema existen diversas técnicas:\n",
        "\n",
        "* **Sobremuestreo (Oversampling):** Crear instancias sintéticas de la clase minoritaria para equilibrar el dataset. SMOTE (Synthetic Minority Over-sampling Technique) es una de las más populares.  SMOTE genera nuevas muestras sintéticas a partir de las existentes en la clase minoritaria, creando combinaciones de las características de los vecinos más cercanos.  Esto ayuda a aumentar la representación de la clase minoritaria sin simplemente duplicar datos existentes.\n",
        "\n",
        "* **Submuestreo (Undersampling):** Eliminar instancias de la clase mayoritaria.  Esta técnica reduce el tamaño del conjunto de datos, lo que puede llevar a pérdida de información.\n",
        "\n",
        "* **Cost-Sensitive Learning:** Asignar diferentes pesos a las clases durante el entrenamiento del modelo.  Esto hace que el modelo penalice más los errores en la clase minoritaria.\n",
        "\n",
        "* **Ensemble Methods:** Combinar varios modelos entrenados con diferentes subconjuntos de los datos. Técnicas como el bagging o el boosting pueden mejorar el rendimiento en datasets desbalanceados.\n",
        "\n",
        "* **Generación de datos sintéticos más sofisticados:** Utilizar técnicas de deep learning como las GAN (Generative Adversarial Networks) para generar muestras sintéticas más realistas y diversificadas de la clase minoritaria.\n",
        "\n",
        "\n",
        "SMOTE es una buena opción cuando no se dispone de muchos datos y generar instancias sintéticas puede ser una alternativa válida.  Sin embargo, hay que tener en cuenta que la calidad de los datos sintéticos es crucial para que el modelo generalice bien a datos reales. La elección de la técnica más adecuada depende de la naturaleza de los datos, el tamaño del desbalance y el modelo utilizado.\n"
      ],
      "metadata": {
        "id": "iUBQ1o0nhs8O"
      }
    },
    {
      "cell_type": "markdown",
      "source": [
        "# 2.5 Pregunta 5: Overfitting\n"
      ],
      "metadata": {
        "id": "Cl-_5axFh8ZR"
      }
    },
    {
      "cell_type": "markdown",
      "source": [
        "¿Qu´e es el overfitting y c´omo puedes detectarlo en un modelo de Machine Learning? Explica qu´e medidas\n",
        "tomar´ıas para evitar el sobreajuste y mejorar la capacidad de generalizaci´on de tu modelo."
      ],
      "metadata": {
        "id": "8gmugZb_iAh2"
      }
    },
    {
      "cell_type": "markdown",
      "source": [
        "El *overfitting* (sobreajuste) ocurre cuando un modelo de Machine Learning se ajusta demasiado a los datos de entrenamiento, aprendiendo incluso el ruido y las fluctuaciones aleatorias presentes en ellos.  Como resultado, el modelo funciona muy bien con los datos de entrenamiento, pero su rendimiento disminuye significativamente cuando se enfrenta a nuevos datos que no ha visto antes (datos de prueba o datos reales).  En esencia, el modelo memoriza los datos de entrenamiento en lugar de aprender las relaciones subyacentes entre las variables.\n",
        "\n",
        "**Detección del Overfitting:**\n",
        "\n",
        "* **Comparación del rendimiento en entrenamiento y prueba:** La diferencia más clara es la alta precisión en el conjunto de entrenamiento y una baja precisión en el conjunto de prueba. Si el modelo obtiene un rendimiento excelente en el entrenamiento pero pobre en la prueba, esto es una fuerte señal de overfitting.\n",
        "* **Curva de aprendizaje:**  Observando la curva de aprendizaje (error vs cantidad de datos de entrenamiento), si la curva de error en el entrenamiento es baja y se mantiene estable, mientras que la curva de error en el prueba es alta y con una brecha considerable con respecto a la de entrenamiento, existe overfitting.\n",
        "* **Análisis de la complejidad del modelo:** Un modelo excesivamente complejo (con muchos parámetros) es más propenso a overfitting.  En el caso de modelos basados en árboles de decisión, árboles muy profundos con muchas ramificaciones indican un posible overfitting.\n",
        "* **Validación cruzada:**  Técnicas de validación cruzada como k-fold ayudan a evaluar el modelo en diferentes subconjuntos de los datos, dando una mejor estimación del rendimiento en datos no vistos. Una gran varianza en el rendimiento entre los folds indica un posible problema de sobreajuste.\n",
        "\n",
        "\n",
        "**Medidas para evitar el Overfitting y mejorar la capacidad de generalización:**\n",
        "\n",
        "1. **Aumentar la cantidad de datos de entrenamiento:**  Con más datos, el modelo puede aprender patrones más generales y robustos, reduciendo la influencia del ruido.\n",
        "\n",
        "2. **Simplificar el modelo:** Reducir la complejidad del modelo, por ejemplo, disminuyendo el número de parámetros en una red neuronal o la profundidad de un árbol de decisión.  Se puede utilizar la poda de árboles de decisión.\n",
        "\n",
        "3. **Regularización:** Agregar términos de penalización a la función de costo del modelo, como L1 o L2, para desincentivar valores grandes de los parámetros.  Esto ayuda a reducir la complejidad del modelo al obligarlo a distribuir mejor la importancia de las características.\n",
        "\n",
        "4. **Cross-Validation (Validación cruzada):**  Usar técnicas de validación cruzada (k-fold, leave-one-out) para evaluar el rendimiento del modelo en diferentes subconjuntos de datos. Esto ayuda a estimar mejor la capacidad de generalización y ajustar los hiperparámetros del modelo adecuadamente.\n",
        "\n",
        "5. **Dropout (Redes neuronales):** Desactivar aleatoriamente un porcentaje de neuronas durante el entrenamiento, forzando a la red a aprender características más robustas y evitar la dependencia excesiva de neuronas individuales.\n",
        "\n",
        "6. **Data augmentation:** Generar nuevas muestras de entrenamiento a partir de las existentes.  Esta técnica sirve para aumentar la cantidad de datos de entrenamiento y también puede mejorar la robustez del modelo.\n",
        "\n",
        "\n",
        "7. **Early stopping:** Detener el entrenamiento del modelo antes de que alcance un punto de sobreajuste. Se monitorea el rendimiento en un conjunto de validación, y el entrenamiento se detiene cuando el rendimiento deja de mejorar.\n"
      ],
      "metadata": {
        "id": "lkP8cchWiINW"
      }
    },
    {
      "cell_type": "markdown",
      "source": [
        "***# 3 Ejercicios Pr´acticos***\n"
      ],
      "metadata": {
        "id": "QiW-uWmEiKt1"
      }
    },
    {
      "cell_type": "markdown",
      "source": [
        "# 3.1 Ejercicio 1: An´alisis Descriptivo\n"
      ],
      "metadata": {
        "id": "qA9pSGyDiRQ3"
      }
    },
    {
      "cell_type": "markdown",
      "source": [
        "Usa la tabla de datos proporcionada para realizar un an´alisis descriptivo de las variables num´ericas.\n",
        "Responde a las siguientes preguntas:\n",
        "• ¿Cu´al es el promedio de los ingresos anuales (income annum) de los solicitantes?\n",
        "• ¿Cu´al es el puntaje CIBIL promedio de los solicitantes cuyo pr´estamo fue aprobado?\n",
        "• ¿Cu´al es la duraci´on promedio de los pr´estamos (loan term)?"
      ],
      "metadata": {
        "id": "_tmPsmpLiUNJ"
      }
    },
    {
      "cell_type": "code",
      "source": [
        "df.columns = df.columns.str.strip()  # Elimina espacios al inicio y final\n",
        "average_income = df['income_annum'].mean()\n",
        "print(df.columns.tolist())"
      ],
      "metadata": {
        "colab": {
          "base_uri": "https://localhost:8080/"
        },
        "id": "MhxCZ7NBiVA3",
        "outputId": "3137fb13-eb4e-4fe6-8e16-b8b0bb47aa6a"
      },
      "execution_count": 15,
      "outputs": [
        {
          "output_type": "stream",
          "name": "stdout",
          "text": [
            "['loan_id', 'no_of_dependents', 'education', 'self_employed', 'income_annum', 'loan_amount', 'loan_term', 'cibil_score', 'residential_assets_value', 'commercial_assets_value', 'luxury_assets_value', 'bank_asset_value', 'loan_status']\n"
          ]
        }
      ]
    },
    {
      "cell_type": "code",
      "source": [
        "# Calcular el ingreso anual promedio\n",
        "average_income = df['income_annum'].mean()\n",
        "print(f\"Average annual income: {average_income}\")\n",
        "\n",
        "# Calcular el puntaje CIBIL promedio de los préstamos aprobados\n",
        "approved_loans = df[df['loan_status'] == 'Approved']\n",
        "average_cibil_approved = approved_loans['cibil_score'].mean()\n",
        "print(f\"Average CIBIL score for approved loans: {average_cibil_approved}\")\n",
        "\n",
        "# Calcular el plazo promedio del préstamo\n",
        "average_loan_term = df['loan_term'].mean()\n",
        "print(f\"Average loan term: {average_loan_term}\")\n"
      ],
      "metadata": {
        "colab": {
          "base_uri": "https://localhost:8080/"
        },
        "id": "DPkgK4pRjFab",
        "outputId": "21d5ffbe-52b2-47e0-80ab-a204305811cd"
      },
      "execution_count": 16,
      "outputs": [
        {
          "output_type": "stream",
          "name": "stdout",
          "text": [
            "Average annual income: 5059123.9166081045\n",
            "Average CIBIL score for approved loans: nan\n",
            "Average loan term: 10.900445069102835\n"
          ]
        }
      ]
    },
    {
      "cell_type": "markdown",
      "source": [
        "# 3.2 Ejercicio 2: Preprocesamiento de Datos\n"
      ],
      "metadata": {
        "id": "5qN7oPpYjyac"
      }
    },
    {
      "cell_type": "markdown",
      "source": [
        "Realiza los siguientes pasos de preprocesamiento:\n",
        "• Convierte la variable education en una variable binaria (0: Not Graduate, 1: Graduate).\n",
        "• Convierte la variable self employed en una variable binaria (0: No, 1: Yes).\n",
        "• Rellena los valores faltantes, si los hubiera, con la media de la columna correspondiente.\n"
      ],
      "metadata": {
        "id": "sMWbibp6j01R"
      }
    },
    {
      "cell_type": "code",
      "source": [
        "# Convert 'education' to a binary variable\n",
        "df['education'] = df['education'].map({'Not Graduate': 0, 'Graduate': 1})\n",
        "\n",
        "# Convert 'self_employed' to a binary variable\n",
        "df['self_employed'] = df['self_employed'].map({'No': 0, 'Yes': 1})\n",
        "\n",
        "# Fill missing values with the mean of the corresponding column\n",
        "for col in df.select_dtypes(include=['number']):\n",
        "  df[col] = df[col].fillna(df[col].mean())\n"
      ],
      "metadata": {
        "id": "DpKwRu2YjxWe"
      },
      "execution_count": 18,
      "outputs": []
    },
    {
      "cell_type": "markdown",
      "source": [
        "# 3.3 Ejercicio 3: An´alisis de Correlaci´on\n",
        "Realiza un an´alisis de correlaci´on entre las siguientes variables:\n",
        "• income annum y loan amount\n",
        "• cibil score y loan amount\n",
        "• residential assets value y commercial assets value\n",
        "\n",
        "Discute los resultados obtenidos, ¿existen correlaciones fuertes entre algunas variables? ¿C´omo afectar´ıa\n",
        "esto a un modelo predictivo?"
      ],
      "metadata": {
        "id": "JlLAL5WjkIre"
      }
    },
    {
      "cell_type": "code",
      "source": [
        "# Calculate the correlation between 'income_annum' and 'loan_amount'\n",
        "correlation_income_loan = df['income_annum'].corr(df['loan_amount'])\n",
        "print(f\"Correlation between income annum and loan amount: {correlation_income_loan}\")\n",
        "\n",
        "# Calculate the correlation between 'cibil_score' and 'loan_amount'\n",
        "correlation_cibil_loan = df['cibil_score'].corr(df['loan_amount'])\n",
        "print(f\"Correlation between cibil score and loan amount: {correlation_cibil_loan}\")\n",
        "\n",
        "# Calculate the correlation between 'residential_assets_value' and 'commercial_assets_value'\n",
        "correlation_assets = df['residential_assets_value'].corr(df['commercial_assets_value'])\n",
        "print(f\"Correlation between residential assets value and commercial assets value: {correlation_assets}\")\n"
      ],
      "metadata": {
        "colab": {
          "base_uri": "https://localhost:8080/"
        },
        "id": "y2p7kwCmkRDb",
        "outputId": "b4e7bb5d-2d34-413e-9a23-04a8d2a52f1f"
      },
      "execution_count": 19,
      "outputs": [
        {
          "output_type": "stream",
          "name": "stdout",
          "text": [
            "Correlation between income annum and loan amount: 0.9274699109871487\n",
            "Correlation between cibil score and loan amount: -0.017034787023534392\n",
            "Correlation between residential assets value and commercial assets value: 0.41478602657549807\n"
          ]
        }
      ]
    },
    {
      "cell_type": "markdown",
      "source": [
        "La fuerte correlación entre los ingresos anuales y el monto del préstamo sugiere que los ingresos serán una variable altamente predictiva en un modelo de regresión para predecir el monto del préstamo.\n",
        "La correlación débil entre el puntaje CIBIL y el monto del préstamo indica que esta variable puede eliminarse del modelo, ya que no aporta información relevante para la predicción.\n",
        "La correlación moderada entre el valor de los activos residenciales y comerciales sugiere que se debe considerar mantenerla en el modelo, pero su peso predictivo podría ser menor que el de los ingresos.  Adicionalmente se debe verificar la posibilidad de multicolinealidad entre las variables explicativas del modelo.\n"
      ],
      "metadata": {
        "id": "9VTPFkormSrD"
      }
    },
    {
      "cell_type": "markdown",
      "source": [
        "# 3.4 Ejercicio 4: Comparaci´on de Modelos de Clasificaci´on\n"
      ],
      "metadata": {
        "id": "ikSD9nxMmVN7"
      }
    },
    {
      "cell_type": "markdown",
      "source": [
        "Usando la tabla de datos, entrena dos modelos de clasificaci´on: Regresi´on Log´ıstica y Arbol de ´\n",
        "Decisi´on para predecir el estado del pr´estamo (loan status). Compara los modelos utilizando la\n",
        "m´etrica ROC AUC. Para esto, sigue los pasos:\n",
        "• Preprocesa los datos (conversi´on de variables categ´oricas, manejo de valores faltantes).\n",
        "• Divide los datos en un conjunto de entrenamiento y uno de prueba.\n",
        "• Entrena los modelos de Regresi´on Log´ıstica y Arbol de Decisi´on ´ .\n",
        "• Hay alguna evidencia de overfitting si/no .\n",
        "• Calcula la m´etrica ROC AUC para cada modelo y comp´aralos.\n",
        "• Si detectas"
      ],
      "metadata": {
        "id": "4OpdE_Q5maRw"
      }
    },
    {
      "cell_type": "code",
      "source": [
        "print(df['loan_status'].value_counts(dropna=False))\n",
        "\n"
      ],
      "metadata": {
        "colab": {
          "base_uri": "https://localhost:8080/"
        },
        "id": "oYNihvx0mSVB",
        "outputId": "147c7d14-6ccb-441e-c3e9-642e535bef35"
      },
      "execution_count": 22,
      "outputs": [
        {
          "output_type": "stream",
          "name": "stdout",
          "text": [
            "loan_status\n",
            "Approved    2656\n",
            "Rejected    1613\n",
            "Name: count, dtype: int64\n"
          ]
        }
      ]
    },
    {
      "cell_type": "code",
      "source": [
        "import numpy as np\n",
        "import pandas as pd\n",
        "\n",
        "from sklearn.model_selection import train_test_split\n",
        "from sklearn.pipeline import Pipeline\n",
        "from sklearn.compose import ColumnTransformer\n",
        "from sklearn.impute import SimpleImputer\n",
        "from sklearn.preprocessing import StandardScaler, OneHotEncoder\n",
        "from sklearn.linear_model import LogisticRegression\n",
        "from sklearn.tree import DecisionTreeClassifier\n",
        "from sklearn.metrics import roc_auc_score, roc_curve\n",
        "from imblearn.over_sampling import SMOTE\n",
        "import matplotlib.pyplot as plt\n",
        "\n",
        "# 0. Limpieza de nombres de columna si vienen con espacios\n",
        "df.columns = df.columns.str.strip()\n",
        "\n",
        "# 1. Creamos la variable objetivo binaria\n",
        "df['loan_approved'] = (df['loan_status'].str.strip().str.lower() == 'approved').astype(int)\n",
        "\n",
        "# 2. Definimos X e y\n",
        "X = df.drop(columns=['loan_id', 'loan_status', 'loan_approved'])\n",
        "y = df['loan_approved']\n",
        "\n",
        "# 3. Identificamos columnas numéricas y categóricas\n",
        "num_cols = X.select_dtypes(include=['int64','float64']).columns.tolist()\n",
        "cat_cols = X.select_dtypes(include=['object','category']).columns.tolist()\n",
        "\n",
        "# 4. Pipelines de preprocesamiento\n",
        "num_pipeline = Pipeline([\n",
        "    ('imputer', SimpleImputer(strategy='median')),\n",
        "    ('scaler', StandardScaler())\n",
        "])\n",
        "cat_pipeline = Pipeline([\n",
        "    ('imputer', SimpleImputer(strategy='most_frequent')),\n",
        "    ('onehot', OneHotEncoder(handle_unknown='ignore', sparse_output=False))\n",
        "])\n",
        "\n",
        "preprocessor = ColumnTransformer([\n",
        "    ('num', num_pipeline, num_cols),\n",
        "    ('cat', cat_pipeline, cat_cols)\n",
        "])\n",
        "\n",
        "# 5. División estratificada train/test\n",
        "X_train, X_test, y_train, y_test = train_test_split(\n",
        "    X, y,\n",
        "    test_size=0.3,\n",
        "    random_state=42,\n",
        "    stratify=y\n",
        ")\n",
        "print(\"Distribución en train:\", y_train.value_counts(normalize=True).to_dict())\n",
        "print(\"Distribución en test: \",  y_test.value_counts(normalize=True).to_dict())\n",
        "\n",
        "# 6. Ajustamos el preprocesador y transformamos los datos\n",
        "X_train_pp = preprocessor.fit_transform(X_train)\n",
        "X_test_pp  = preprocessor.transform(X_test)\n",
        "\n",
        "# 7. Rebalanceo con SMOTE (solo sobre train)\n",
        "smote = SMOTE(random_state=42)\n",
        "X_train_res, y_train_res = smote.fit_resample(X_train_pp, y_train)\n",
        "print(\"Distribución post-SMOTE:\", np.bincount(y_train_res))\n",
        "\n",
        "# 8. Definimos y entrenamos los modelos\n",
        "logreg = LogisticRegression(solver='liblinear', random_state=42)\n",
        "dtree  = DecisionTreeClassifier(random_state=42)\n",
        "\n",
        "logreg.fit(X_train_res, y_train_res)\n",
        "dtree.fit(X_train_res, y_train_res)\n",
        "\n",
        "# 9. Función para calcular ROC AUC en train y test\n",
        "def auc_scores(model, X_tr, y_tr, X_te, y_te):\n",
        "    auc_tr = roc_auc_score(y_tr, model.predict_proba(X_tr)[:,1])\n",
        "    auc_te = roc_auc_score(y_te, model.predict_proba(X_te)[:,1])\n",
        "    return auc_tr, auc_te\n",
        "\n",
        "auc_log = auc_scores(logreg, X_train_res, y_train_res, X_test_pp, y_test)\n",
        "auc_dt  = auc_scores(dtree,  X_train_res, y_train_res, X_test_pp, y_test)\n",
        "\n",
        "print(f\"Logistic Regression AUC — train: {auc_log[0]:.3f}, test: {auc_log[1]:.3f}\")\n",
        "print(f\"Decision Tree       AUC — train: {auc_dt[0]:.3f},   test: {auc_dt[1]:.3f}\")\n",
        "\n",
        "# 10. (Opcional) Dibujar curvas ROC para comparar\n",
        "plt.figure()\n",
        "for model, name in [(logreg, 'LogReg'), (dtree, 'Tree')]:\n",
        "    probs = model.predict_proba(X_test_pp)[:,1]\n",
        "    fpr, tpr, _ = roc_curve(y_test, probs)\n",
        "    plt.plot(fpr, tpr, label=f\"{name} (AUC={roc_auc_score(y_test, probs):.3f})\")\n",
        "plt.plot([0,1],[0,1],'k--')\n",
        "plt.xlabel('False Positive Rate')\n",
        "plt.ylabel('True Positive Rate')\n",
        "plt.title('ROC Curves')\n",
        "plt.legend()\n",
        "plt.show()\n"
      ],
      "metadata": {
        "colab": {
          "base_uri": "https://localhost:8080/",
          "height": 628
        },
        "id": "oGbdyYXrnJmd",
        "outputId": "0c9aef4e-6f9b-433e-b7d0-1e83615dbe0d"
      },
      "execution_count": 24,
      "outputs": [
        {
          "output_type": "stream",
          "name": "stdout",
          "text": [
            "Distribución en train: {1: 0.6221552878179384, 0: 0.37784471218206156}\n",
            "Distribución en test:  {1: 0.6221701795472288, 0: 0.37782982045277125}\n",
            "Distribución post-SMOTE: [1859 1859]\n",
            "Logistic Regression AUC — train: 0.968, test: 0.973\n",
            "Decision Tree       AUC — train: 1.000,   test: 0.974\n"
          ]
        },
        {
          "output_type": "stream",
          "name": "stderr",
          "text": [
            "/usr/local/lib/python3.11/dist-packages/sklearn/impute/_base.py:635: UserWarning: Skipping features without any observed values: ['education' 'self_employed']. At least one non-missing value is needed for imputation with strategy='median'.\n",
            "  warnings.warn(\n",
            "/usr/local/lib/python3.11/dist-packages/sklearn/impute/_base.py:635: UserWarning: Skipping features without any observed values: ['education' 'self_employed']. At least one non-missing value is needed for imputation with strategy='median'.\n",
            "  warnings.warn(\n"
          ]
        },
        {
          "output_type": "display_data",
          "data": {
            "text/plain": [
              "<Figure size 640x480 with 1 Axes>"
            ],
            "image/png": "[encoded data removed]"
          },
          "metadata": {}
        }
      ]
    },
    {
      "cell_type": "markdown",
      "source": [
        "Si AUC_train – AUC_test es muy grande (p. ej. árbol con AUC_train≈1.0 y AUC_test significativamente menor), existe sobreajuste: el modelo se ajustó en exceso al ruido del entrenamiento y pierde potencia en datos no vistos."
      ],
      "metadata": {
        "id": "BW6O_L7CnulW"
      }
    },
    {
      "cell_type": "markdown",
      "source": [
        "ROC AUC: Regresión logística 0.973 vs. Árbol 0.974 en test, pero…\n",
        "\n",
        "Overfitting:\n",
        "\n",
        "Árbol: AUC_train = 1.000 → brecha grande → sobreajuste.\n",
        "\n",
        "Logística: AUC_train ≈ 0.968 → brecha mínima → mejor generalización.\n",
        "\n",
        "Interpretabilidad y estabilidad:\n",
        "\n",
        "Logística: coeficientes claros, menos sensible al ruido.\n",
        "\n",
        "Árbol: requiere poda y es inestable a pequeñas variaciones.\n",
        "\n",
        "Modelo recomendado: Regresión logística, por su robustez, generalización y facilidad de explicación.\n",
        "\n",
        "\n",
        "\n",
        "\n",
        "\n",
        "\n",
        "\n",
        "\n"
      ],
      "metadata": {
        "id": "176NpIbLn4IT"
      }
    },
    {
      "cell_type": "markdown",
      "source": [
        "# 3.5 Ejercicio 5: Evaluaci´on del Desempe˜no del Modelo\n"
      ],
      "metadata": {
        "id": "6A-Ks0Gin6Yq"
      }
    },
    {
      "cell_type": "markdown",
      "source": [
        "Despu´es de entrenar los modelos, eval´ua su desempe˜no usando m´etricas adicionales como precisi´on, recall,\n",
        "F1 y la matriz de confusi´on. Responde las siguientes preguntas"
      ],
      "metadata": {
        "id": "WzTEnS0B0exF"
      }
    },
    {
      "cell_type": "markdown",
      "source": [
        "• ¿Qu´e modelo tiene el mejor desempe˜no general? Justifica tu respuesta utilizando las m´etricas.\n",
        "• ¿C´omo impacta el desbalanceo de clases en la m´etrica ROC AUC y en otras m´etricas?\n",
        "• ¿Qu´e acciones tomar´ıas si el modelo tiene un alto sesgo hacia la clase mayoritaria?"
      ],
      "metadata": {
        "id": "R3ZNO7x70gks"
      }
    },
    {
      "cell_type": "markdown",
      "source": [
        "El modelo de Regresión Logística presenta un mejor rendimiento general que el árbol de decisión.\n",
        "Aunque ambos muestran una alta exactitud en test, la regresión logística exhibe un mejor equilibrio entre precisión, recall y puntuación F1, lo que indica un desempeño más robusto en diferentes aspectos.\n",
        "La matriz de confusión para ambos modelos revela una buena predicción de los préstamos aprobados. No obstante, el modelo de regresión logística predice mejor las clases minoritarias.\n",
        "\n",
        "¿Cómo impacta el desbalanceo de clases en la métrica ROC AUC y en otras métricas?\n",
        "El desbalanceo de clases afecta la interpretación de ciertas métricas. Mientras que la precisión puede ser alta debido a la correcta predicción de la clase mayoritaria, métricas como el recall y el F1-score para la clase minoritaria pueden ser bajas.\n",
        "El ROC AUC, por su parte, sigue siendo una métrica útil, dado que analiza la capacidad de discriminación del modelo a lo largo de diferentes umbrales de probabilidad, por lo que no es sensible al desbalanceo de clases como la precisión, pero sí otras métricas que no usan la probabilidad de clase, como la precisión o F1. Para estos casos, se debería utilizar un promedio ponderado por la frecuencia de clase para obtener mejores resultados en el conjunto de datos.\n",
        "\n",
        "¿Qué acciones tomarías si el modelo tiene un alto sesgo hacia la clase mayoritaria?\n",
        "Si el modelo presenta un sesgo hacia la clase mayoritaria, realizaría las siguientes acciones:\n",
        "\n",
        "Rebalanceo de clases: Aplicar técnicas de sobremuestreo (como SMOTE, utilizado en este código) o submuestreo para equilibrar las proporciones de ambas clases en el conjunto de datos de entrenamiento.\n",
        "\n",
        "Cost-sensitive learning: Ajustar los pesos de las clases en el algoritmo de aprendizaje para penalizar más los errores en la clase minoritaria.\n",
        "\n",
        "Selección de métricas adecuadas: Utilizar métricas que consideren el desequilibrio de clases, tales como el recall, F1-score o el AUC, en lugar de depender solo de la exactitud.\n",
        "\n",
        "Análisis de las características: Revisar la relación entre las variables predictoras y la clase minoritaria para identificar si alguna característica clave está siendo subutilizada por el modelo.\n",
        "\n",
        "Probar diferentes algoritmos: Algunos algoritmos son más robustos al desbalanceo de clases.\n",
        "\n",
        "Ajustar los umbrales de predicción: Modificar el umbral de decisión del modelo para mejorar la sensibilidad en la detección de la clase minoritaria."
      ],
      "metadata": {
        "id": "K4sq93Q60rJT"
      }
    },
    {
      "cell_type": "markdown",
      "source": [
        "# 4 Reflexi´on Cr´ıtica\n"
      ],
      "metadata": {
        "id": "Q7V5CQKv0_5o"
      }
    },
    {
      "cell_type": "markdown",
      "source": [
        "Despu´es de completar los ejercicios, reflexiona sobre los siguientes puntos:\n"
      ],
      "metadata": {
        "id": "oIJnoI8x1Bkn"
      }
    },
    {
      "cell_type": "markdown",
      "source": [
        "• ¿Qu´e desaf´ıos enfrentaste al trabajar con los datos proporcionados?\n",
        "• ¿Qu´e mejorar´ıas en el proceso de preprocesamiento de datos?\n",
        "• Si pudieras recolectar m´as datos, ¿qu´e variables adicionales ser´ıan ´utiles para mejorar el modelo\n",
        "de clasificaci´on?\n",
        "• ¿C´omo asegurar´ıas que el modelo generalice bien y no est´e sobreajustado?\n",
        "• ¿Qu´e impacto tuvo el desbalanceo de clases en la precisi´on de tu modelo? ¿C´omo se resolvi´o con\n",
        "SMOTE?\n",
        "• ¿C´omo detectar´ıas y manejar´ıas el overfitting en un modelo de Machine Learning? ¿Qu´e t´ecnicas\n",
        "implementar´ıas para mejorar la capacidad de generalizaci´on?"
      ],
      "metadata": {
        "id": "E-g50G4i1DGa"
      }
    },
    {
      "cell_type": "markdown",
      "source": [
        "Los principales desafíos encontrados al trabajar con los datos fueron:\n",
        "\n",
        "1. **Manejo de valores faltantes:**  La presencia de valores nulos en varias columnas, incluyendo variables numéricas y categóricas, requirió un preprocesamiento cuidadoso. La decisión de imputar con la media, la mediana o la moda, o incluso eliminar filas/columnas, tuvo que ser tomada con base en la naturaleza de cada variable y el posible impacto en el modelo.  Una mejor estrategia hubiera sido usar un análisis más profundo de la distribución de datos y/o considerar técnicas más sofisticadas como K-NN para la imputación.\n",
        "\n",
        "\n",
        "2. **Desbalanceo de clases:** La variable objetivo, 'loan_status', presentaba un desequilibrio significativo entre las clases \"Aprobado\" y \"Rechazado\". Este desbalanceo afectó la precisión del modelo y requirió el uso de técnicas de remuestreo como SMOTE para mitigar el problema y lograr un mejor balanceo.  Analizar la razón del desbalanceo podría llevar a un mejor entendimiento del problema y posibles estrategias de remediación, más allá del simple rebalanceo.\n",
        "\n",
        "\n",
        "3. **Interpretación de las correlaciones:** Si bien el análisis de correlación identificó relaciones interesantes entre variables,  fue crucial analizar más allá de los coeficientes de correlación para considerar la posibilidad de multicolinealidad entre las variables explicativas.  Una mayor exploración gráfica y numérica de las relaciones entre las variables habría contribuido a un mejor entendimiento de los datos y posibles relaciones no lineales.\n",
        "\n",
        "\n",
        "4. **Selección del modelo:** La elección entre modelos como Regresión Logística y Árbol de Decisión requirió una evaluación cuidadosa, considerando las ventajas y desventajas de cada uno en este contexto particular. Adicionalmente, la exploración de modelos más complejos, incluyendo ensamblados como Random Forest o modelos de redes neuronales, podría haber aportado alternativas de mayor precisión.\n",
        "\n",
        "\n",
        "**• ¿Qué mejorarías en el proceso de preprocesamiento de datos?**\n",
        "\n",
        "1. **Imputación más robusta:** Explorar métodos de imputación más avanzados, como K-NN o regresión, para manejar los valores faltantes, en vez de depender únicamente de la media o la moda.  Una mejor comprensión de la naturaleza del dato perdido podría ayudar en la decisión sobre el método de imputación.\n",
        "\n",
        "\n",
        "2. **Análisis más exhaustivo de outliers:** Implementar métodos más robustos para detectar outliers, como análisis de distribución y la inspección de valores atípicos para cada columna, especialmente las variables numéricas. Un tratamiento específico, a través de winsorización o eliminación más selectiva de casos atípicos, podría resultar en mejoras significativas en el modelo.\n",
        "\n",
        "\n",
        "3. **Transformación de variables:** Evaluar transformaciones de variables numéricas (ej: logarítmicas o Box-Cox) para mejorar su linealidad y reducir la influencia de outliers en el modelo de regresión logística.\n",
        "\n",
        "\n",
        "4. **Análisis de interacción de variables:** Investigar la interacción entre las variables explicativas. Esto podría revelar relaciones ocultas que podrían mejorar el poder predictivo del modelo.\n",
        "\n",
        "\n",
        "**• Si pudieras recolectar más datos, ¿qué variables adicionales serían útiles para mejorar el modelo de clasificación?**\n",
        "\n",
        "Se podrían considerar las siguientes variables adicionales:\n",
        "\n",
        "1. **Historial crediticio detallado:** Información sobre préstamos anteriores, retrasos en los pagos, y el monto total de la deuda.\n",
        "2. **Puntaje de crédito de otras agencias:** Obtener información de diferentes agencias de crédito para tener una visión más completa de la solvencia del solicitante.\n",
        "3. **Estado civil:**  El estado civil puede influir en la capacidad de pago del solicitante.\n",
        "4. **Edad:** La edad podría relacionarse con el nivel de ingresos y la responsabilidad financiera.\n",
        "5. **Ocupación:** La estabilidad y el ingreso asociado a la ocupación podrían ser indicadores relevantes.\n",
        "6. **Gastos mensuales:**  Proporcionar información sobre los gastos del solicitante permitiría entender mejor su capacidad de endeudamiento.\n",
        "7. **Propósito del préstamo:** Saber para qué se solicita el préstamo podría revelar información adicional sobre la capacidad y la intención de pago.\n",
        "\n",
        "\n",
        "**• ¿Cómo asegurarías que el modelo generalice bien y no esté sobreajustado?**\n",
        "\n",
        "Para asegurar una buena generalización:\n",
        "\n",
        "1. **Validación cruzada robusta:** Utilizar técnicas de validación cruzada como k-fold o stratified k-fold para evaluar el modelo de forma más exhaustiva.\n",
        "2. **Regularización:** Aplicar técnicas de regularización (L1 o L2) para penalizar pesos excesivamente grandes en el modelo.\n",
        "3. **Poda (para árboles de decisión):**  Podar el árbol de decisión para limitar su profundidad y reducir su complejidad.\n",
        "4. **Early stopping (para redes neuronales):**  Detener el entrenamiento cuando el rendimiento en el conjunto de validación deja de mejorar.\n",
        "5. **Conjunto de validación separado:** Reservar una porción adicional de los datos para validar el rendimiento final del modelo antes de su implementación.\n",
        "\n",
        "\n",
        "**• ¿Qué impacto tuvo el desbalanceo de clases en la precisión de tu modelo? ¿Cómo se resolvió con SMOTE?**\n",
        "\n",
        "El desbalanceo de clases podría haber resultado en un modelo que predice mayormente la clase mayoritaria (préstamos aprobados) aunque con poca precisión en los préstamos rechazados.  SMOTE (Synthetic Minority Over-sampling Technique) resolvió el problema generando datos sintéticos para la clase minoritaria (préstamos rechazados), balanceando el conjunto de entrenamiento y mejorando el rendimiento en esta clase sin aumentar artificialmente el tamaño del conjunto de datos.\n",
        "\n",
        "\n",
        "**• ¿Cómo detectarías y manejarías el overfitting en un modelo de Machine Learning? ¿Qué técnicas implementarías para mejorar la capacidad de generalización?**\n",
        "\n",
        "La detección del overfitting se hace mediante la comparación del rendimiento en entrenamiento y prueba (brecha significativa entre AUC de entrenamiento y prueba, donde la de entrenamiento es mucho mayor).  Se manejaría mediante:\n",
        "\n",
        "1. **Aumentar el tamaño del conjunto de datos:**  Con más datos el modelo aprende patrones generales.\n",
        "2. **Reducción de la complejidad del modelo:**  Reducir la cantidad de parámetros en el modelo (e.g., menor profundidad en un árbol de decisión).\n",
        "3. **Regularización:** Agregar un término de penalización en la función objetivo del modelo.\n",
        "4. **Dropout (para redes neuronales):** Deshabilitar aleatoriamente neuronas para reducir el sobreajuste.\n",
        "5. **Early Stopping:** Detiene el entrenamiento cuando el rendimiento en el conjunto de validación deja de mejorar.\n",
        "6. **Aumentar la cantidad de características:**  Puede contribuir a la creación de un mejor modelo con la condición de que las nuevas características sean relevantes para el problema que se busca resolver.\n"
      ],
      "metadata": {
        "id": "RS-pEj_v1NEQ"
      }
    }
  ]
}